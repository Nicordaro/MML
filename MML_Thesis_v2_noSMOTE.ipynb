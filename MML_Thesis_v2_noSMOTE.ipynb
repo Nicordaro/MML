{
  "nbformat": 4,
  "nbformat_minor": 0,
  "metadata": {
    "colab": {
      "name": "MML_Thesis.ipynb",
      "provenance": [],
      "toc_visible": true,
      "authorship_tag": "ABX9TyMy3zJxK4G1whqaYRorKgVZ",
      "include_colab_link": true
    },
    "kernelspec": {
      "name": "python3",
      "display_name": "Python 3"
    }
  },
  "cells": [
    {
      "cell_type": "markdown",
      "metadata": {
        "id": "view-in-github",
        "colab_type": "text"
      },
      "source": [
        "<a href=\"https://colab.research.google.com/github/Nicordaro/MML/blob/main/MML_Thesis_v2_noSMOTE.ipynb\" target=\"_parent\"><img src=\"https://colab.research.google.com/assets/colab-badge.svg\" alt=\"Open In Colab\"/></a>"
      ]
    },
    {
      "cell_type": "markdown",
      "metadata": {
        "id": "3kdinOfuCREV"
      },
      "source": [
        "###Mathematics in Machine Learning\n",
        "#Tesina\n",
        "Nicolò Cordaro s272145\n",
        "\n",
        "---\n",
        "\n"
      ]
    },
    {
      "cell_type": "markdown",
      "metadata": {
        "id": "5I-ba2j5HI0h"
      },
      "source": [
        "###Organize imports and dataset definition"
      ]
    },
    {
      "cell_type": "code",
      "metadata": {
        "id": "m4vFQIyHGzyi",
        "colab": {
          "base_uri": "https://localhost:8080/"
        },
        "outputId": "560a09b2-da3d-48fb-d63a-d4d05b2fc6ff"
      },
      "source": [
        "import os\n",
        "import numpy as np\n",
        "import sklearn\n",
        "import matplotlib.pyplot as plt\n",
        "import pandas as pd\n",
        "import seaborn as sns\n",
        "import shutil\n",
        "from sklearn.model_selection import StratifiedKFold\n",
        "from imblearn.over_sampling import SMOTE\n",
        "from sklearn.tree import DecisionTreeClassifier\n",
        "from sklearn.preprocessing import MinMaxScaler, StandardScaler, Normalizer\n",
        "from sklearn.metrics import f1_score\n",
        "from sklearn.metrics import accuracy_score\n",
        "from sklearn.metrics import recall_score\n",
        "from sklearn.metrics import precision_score\n",
        "from sklearn.metrics import confusion_matrix\n",
        "from sklearn.linear_model import LogisticRegression\n",
        "from sklearn.ensemble import RandomForestClassifier\n",
        "from sklearn import tree\n",
        "from sklearn.neighbors import KNeighborsClassifier\n",
        "from sklearn.model_selection import train_test_split\n",
        "from sklearn.metrics import classification_report, make_scorer\n",
        "from sklearn.model_selection import train_test_split\n",
        "from sklearn.metrics import roc_auc_score\n",
        "from sklearn.model_selection import GridSearchCV\n",
        "from sklearn.svm import SVC\n",
        "\n",
        "scoring = make_scorer(f1_score)\n",
        "\n",
        "import warnings\n",
        "warnings.filterwarnings(\"ignore\")\n",
        "\n",
        "# import warnings filter\n",
        "from warnings import simplefilter\n",
        "# ignore all future warnings\n",
        "simplefilter(action='ignore', category=FutureWarning)\n",
        "# import warnings filter\n",
        "from warnings import simplefilter\n",
        "# ignore all future warnings\n",
        "simplefilter(action='ignore', category=FutureWarning)\n",
        "\n",
        "SEED = 42\n",
        "\n",
        "def confmat(y_test,pred):\n",
        "    cf_matrix = confusion_matrix(y_test, pred)\n",
        "    ax = sns.heatmap(cf_matrix, annot=True,  fmt='g', cmap='coolwarm', xticklabels=[\"benign\",\"malign\"], yticklabels=[\"benign\",\"malign\"]) #notation: \"annot\" not \"annote\"\n",
        "    bottom, top = ax.get_ylim()\n",
        "    ax.set_ylim(bottom + 0.5, top - 0.5)\n",
        "    ax.set(xlabel='True Label', ylabel='Predicted Label')"
      ],
      "execution_count": 1,
      "outputs": [
        {
          "output_type": "stream",
          "text": [
            "/usr/local/lib/python3.7/dist-packages/sklearn/externals/six.py:31: FutureWarning: The module is deprecated in version 0.21 and will be removed in version 0.23 since we've dropped support for Python 2.7. Please rely on the official version of six (https://pypi.org/project/six/).\n",
            "  \"(https://pypi.org/project/six/).\", FutureWarning)\n",
            "/usr/local/lib/python3.7/dist-packages/sklearn/utils/deprecation.py:144: FutureWarning: The sklearn.neighbors.base module is  deprecated in version 0.22 and will be removed in version 0.24. The corresponding classes / functions should instead be imported from sklearn.neighbors. Anything that cannot be imported from sklearn.neighbors is now part of the private API.\n",
            "  warnings.warn(message, FutureWarning)\n"
          ],
          "name": "stderr"
        }
      ]
    },
    {
      "cell_type": "code",
      "metadata": {
        "id": "AV6Hj6qybgAb"
      },
      "source": [
        "tune = False\r\n",
        "viz = True"
      ],
      "execution_count": 2,
      "outputs": []
    },
    {
      "cell_type": "code",
      "metadata": {
        "id": "BLgakeS9CpN1",
        "colab": {
          "base_uri": "https://localhost:8080/"
        },
        "outputId": "dee45c61-7348-4104-ab5b-532fd0b0746a"
      },
      "source": [
        "# Clone github repository with dataset\n",
        "# deleting if already present(Only for development purposes, colab limitations)\n",
        "!rm -rf MML\n",
        "!rm -rf dataset\n",
        "if not os.path.isdir('./MML'):\n",
        "  !git clone https://github.com/Nicordaro/MML\n",
        "    \n",
        "source_dir = './MML/dataset'\n",
        "target_dir = './dataset'\n",
        "    \n",
        "file_names = os.listdir(source_dir)\n",
        "os.mkdir(target_dir)\n",
        "for file_name in file_names:\n",
        "  print(file_name)\n",
        "  shutil.move(source_dir+\"/\"+file_name, target_dir+\"/\"+file_name)"
      ],
      "execution_count": 3,
      "outputs": [
        {
          "output_type": "stream",
          "text": [
            "Cloning into 'MML'...\n",
            "remote: Enumerating objects: 68, done.\u001b[K\n",
            "remote: Counting objects: 100% (68/68), done.\u001b[K\n",
            "remote: Compressing objects: 100% (67/67), done.\u001b[K\n",
            "remote: Total 68 (delta 24), reused 0 (delta 0), pack-reused 0\u001b[K\n",
            "Unpacking objects: 100% (68/68), done.\n",
            "breast-cancer-wisconsin.data\n",
            "wdbc.data\n",
            "breast-cancer-wisconsin.names\n"
          ],
          "name": "stdout"
        }
      ]
    },
    {
      "cell_type": "code",
      "metadata": {
        "id": "xRhstnsZLnjl",
        "cellView": "both"
      },
      "source": [
        "names = {\"sampcode\":\"Sample code number\", \n",
        "\"clump\": \"Clump Thickness\", \n",
        "\"uni_size\":\"Uniformity of Cell Size\", \n",
        "\"uni_shape\":\"Uniformity of Cell Shape\", \n",
        "\"adhesion\":\"Marginal Adhesion\", \n",
        "\"epith_size\":\"Single Epithelial Cell Size\", \n",
        "\"nuclei\":\"Bare Nuclei\", \n",
        "\"chromatin\":\"Bland Chromatin\", \n",
        "\"nucleoli\":\"Normal Nucleoli\", \n",
        "\"mitoses\":\"Mitoses\", \n",
        "\"class\":\"Class\"}"
      ],
      "execution_count": 4,
      "outputs": []
    },
    {
      "cell_type": "code",
      "metadata": {
        "id": "1VMoPHTWn_9R",
        "colab": {
          "base_uri": "https://localhost:8080/"
        },
        "outputId": "0324273c-71e4-41b9-8495-b59821dd4ed1"
      },
      "source": [
        "dataset_DF = pd.read_csv(target_dir+\"/breast-cancer-wisconsin.data\", names=list(names.keys()))\n",
        "dataset_DF.iloc[:, 10] = dataset_DF.iloc[:, 10].replace(2, \"benign\").replace(4, \"malign\")\n",
        "dataset_DF.info()"
      ],
      "execution_count": 5,
      "outputs": [
        {
          "output_type": "stream",
          "text": [
            "<class 'pandas.core.frame.DataFrame'>\n",
            "RangeIndex: 699 entries, 0 to 698\n",
            "Data columns (total 11 columns):\n",
            " #   Column      Non-Null Count  Dtype \n",
            "---  ------      --------------  ----- \n",
            " 0   sampcode    699 non-null    int64 \n",
            " 1   clump       699 non-null    int64 \n",
            " 2   uni_size    699 non-null    int64 \n",
            " 3   uni_shape   699 non-null    int64 \n",
            " 4   adhesion    699 non-null    int64 \n",
            " 5   epith_size  699 non-null    int64 \n",
            " 6   nuclei      699 non-null    object\n",
            " 7   chromatin   699 non-null    int64 \n",
            " 8   nucleoli    699 non-null    int64 \n",
            " 9   mitoses     699 non-null    int64 \n",
            " 10  class       699 non-null    object\n",
            "dtypes: int64(9), object(2)\n",
            "memory usage: 60.2+ KB\n"
          ],
          "name": "stdout"
        }
      ]
    },
    {
      "cell_type": "markdown",
      "metadata": {
        "id": "SaLxfGuxBguA"
      },
      "source": [
        "# Inspection & Preprocessing"
      ]
    },
    {
      "cell_type": "code",
      "metadata": {
        "id": "6wUYAzcESZag",
        "colab": {
          "base_uri": "https://localhost:8080/"
        },
        "outputId": "312c8b4c-9249-435e-9429-14e1828998f6"
      },
      "source": [
        "for col in dataset_DF.iloc[:, 1:].columns:\r\n",
        "  print(\"Attribute '\"+str(col)+\"'\\t contains: \\t\"+str(sorted(dataset_DF[col].unique())))"
      ],
      "execution_count": 6,
      "outputs": [
        {
          "output_type": "stream",
          "text": [
            "Attribute 'clump'\t contains: \t[1, 2, 3, 4, 5, 6, 7, 8, 9, 10]\n",
            "Attribute 'uni_size'\t contains: \t[1, 2, 3, 4, 5, 6, 7, 8, 9, 10]\n",
            "Attribute 'uni_shape'\t contains: \t[1, 2, 3, 4, 5, 6, 7, 8, 9, 10]\n",
            "Attribute 'adhesion'\t contains: \t[1, 2, 3, 4, 5, 6, 7, 8, 9, 10]\n",
            "Attribute 'epith_size'\t contains: \t[1, 2, 3, 4, 5, 6, 7, 8, 9, 10]\n",
            "Attribute 'nuclei'\t contains: \t['1', '10', '2', '3', '4', '5', '6', '7', '8', '9', '?']\n",
            "Attribute 'chromatin'\t contains: \t[1, 2, 3, 4, 5, 6, 7, 8, 9, 10]\n",
            "Attribute 'nucleoli'\t contains: \t[1, 2, 3, 4, 5, 6, 7, 8, 9, 10]\n",
            "Attribute 'mitoses'\t contains: \t[1, 2, 3, 4, 5, 6, 7, 8, 10]\n",
            "Attribute 'class'\t contains: \t['benign', 'malign']\n"
          ],
          "name": "stdout"
        }
      ]
    },
    {
      "cell_type": "code",
      "metadata": {
        "id": "QFgiAPjPnvS9",
        "colab": {
          "base_uri": "https://localhost:8080/"
        },
        "outputId": "f7887366-2cda-420d-a9ac-f03503ca862e"
      },
      "source": [
        "# Non-numerical values are present in the Bare-nuclei feature\n",
        "dataset_DF.isin(['?']).any()"
      ],
      "execution_count": 7,
      "outputs": [
        {
          "output_type": "execute_result",
          "data": {
            "text/plain": [
              "sampcode      False\n",
              "clump         False\n",
              "uni_size      False\n",
              "uni_shape     False\n",
              "adhesion      False\n",
              "epith_size    False\n",
              "nuclei         True\n",
              "chromatin     False\n",
              "nucleoli      False\n",
              "mitoses       False\n",
              "class         False\n",
              "dtype: bool"
            ]
          },
          "metadata": {
            "tags": []
          },
          "execution_count": 7
        }
      ]
    },
    {
      "cell_type": "code",
      "metadata": {
        "id": "5bTsBHsTn0dn"
      },
      "source": [
        "# searching non-numeric (\"?\") occurrances in the dataset\n",
        "dataset_DF = dataset_DF.drop(dataset_DF[dataset_DF[\"nuclei\"]==\"?\"].index)\n",
        "# conversion to numeric the object column\n",
        "dataset_DF.iloc[:, 6] = pd.to_numeric(dataset_DF.iloc[:, 6])"
      ],
      "execution_count": 8,
      "outputs": []
    },
    {
      "cell_type": "code",
      "metadata": {
        "id": "ZrQQtPR5Udbz",
        "colab": {
          "base_uri": "https://localhost:8080/"
        },
        "outputId": "ab862b1c-6c5f-4f05-a139-9b813cba10ac"
      },
      "source": [
        "for col in dataset_DF.iloc[:, 1:].columns:\r\n",
        "  print(\"Attribute '\"+str(col)+\"'\\t contains: \\t\"+str(sorted(dataset_DF[col].unique())))"
      ],
      "execution_count": 9,
      "outputs": [
        {
          "output_type": "stream",
          "text": [
            "Attribute 'clump'\t contains: \t[1, 2, 3, 4, 5, 6, 7, 8, 9, 10]\n",
            "Attribute 'uni_size'\t contains: \t[1, 2, 3, 4, 5, 6, 7, 8, 9, 10]\n",
            "Attribute 'uni_shape'\t contains: \t[1, 2, 3, 4, 5, 6, 7, 8, 9, 10]\n",
            "Attribute 'adhesion'\t contains: \t[1, 2, 3, 4, 5, 6, 7, 8, 9, 10]\n",
            "Attribute 'epith_size'\t contains: \t[1, 2, 3, 4, 5, 6, 7, 8, 9, 10]\n",
            "Attribute 'nuclei'\t contains: \t[1, 2, 3, 4, 5, 6, 7, 8, 9, 10]\n",
            "Attribute 'chromatin'\t contains: \t[1, 2, 3, 4, 5, 6, 7, 8, 9, 10]\n",
            "Attribute 'nucleoli'\t contains: \t[1, 2, 3, 4, 5, 6, 7, 8, 9, 10]\n",
            "Attribute 'mitoses'\t contains: \t[1, 2, 3, 4, 5, 6, 7, 8, 10]\n",
            "Attribute 'class'\t contains: \t['benign', 'malign']\n"
          ],
          "name": "stdout"
        }
      ]
    },
    {
      "cell_type": "code",
      "metadata": {
        "id": "9qdIWQlrR1q1",
        "colab": {
          "base_uri": "https://localhost:8080/"
        },
        "outputId": "d00bf1c4-37d4-4d96-cb8e-a90297315a48"
      },
      "source": [
        "dataset_DF.info()"
      ],
      "execution_count": 10,
      "outputs": [
        {
          "output_type": "stream",
          "text": [
            "<class 'pandas.core.frame.DataFrame'>\n",
            "Int64Index: 683 entries, 0 to 698\n",
            "Data columns (total 11 columns):\n",
            " #   Column      Non-Null Count  Dtype \n",
            "---  ------      --------------  ----- \n",
            " 0   sampcode    683 non-null    int64 \n",
            " 1   clump       683 non-null    int64 \n",
            " 2   uni_size    683 non-null    int64 \n",
            " 3   uni_shape   683 non-null    int64 \n",
            " 4   adhesion    683 non-null    int64 \n",
            " 5   epith_size  683 non-null    int64 \n",
            " 6   nuclei      683 non-null    int64 \n",
            " 7   chromatin   683 non-null    int64 \n",
            " 8   nucleoli    683 non-null    int64 \n",
            " 9   mitoses     683 non-null    int64 \n",
            " 10  class       683 non-null    object\n",
            "dtypes: int64(10), object(1)\n",
            "memory usage: 64.0+ KB\n"
          ],
          "name": "stdout"
        }
      ]
    },
    {
      "cell_type": "code",
      "metadata": {
        "id": "FiZcYokTK0nH",
        "colab": {
          "base_uri": "https://localhost:8080/",
          "height": 142
        },
        "outputId": "c36d426f-6686-4b72-d05a-2f60873eca9b"
      },
      "source": [
        "dataset_DF.head(3)"
      ],
      "execution_count": 11,
      "outputs": [
        {
          "output_type": "execute_result",
          "data": {
            "text/html": [
              "<div>\n",
              "<style scoped>\n",
              "    .dataframe tbody tr th:only-of-type {\n",
              "        vertical-align: middle;\n",
              "    }\n",
              "\n",
              "    .dataframe tbody tr th {\n",
              "        vertical-align: top;\n",
              "    }\n",
              "\n",
              "    .dataframe thead th {\n",
              "        text-align: right;\n",
              "    }\n",
              "</style>\n",
              "<table border=\"1\" class=\"dataframe\">\n",
              "  <thead>\n",
              "    <tr style=\"text-align: right;\">\n",
              "      <th></th>\n",
              "      <th>sampcode</th>\n",
              "      <th>clump</th>\n",
              "      <th>uni_size</th>\n",
              "      <th>uni_shape</th>\n",
              "      <th>adhesion</th>\n",
              "      <th>epith_size</th>\n",
              "      <th>nuclei</th>\n",
              "      <th>chromatin</th>\n",
              "      <th>nucleoli</th>\n",
              "      <th>mitoses</th>\n",
              "      <th>class</th>\n",
              "    </tr>\n",
              "  </thead>\n",
              "  <tbody>\n",
              "    <tr>\n",
              "      <th>0</th>\n",
              "      <td>1000025</td>\n",
              "      <td>5</td>\n",
              "      <td>1</td>\n",
              "      <td>1</td>\n",
              "      <td>1</td>\n",
              "      <td>2</td>\n",
              "      <td>1</td>\n",
              "      <td>3</td>\n",
              "      <td>1</td>\n",
              "      <td>1</td>\n",
              "      <td>benign</td>\n",
              "    </tr>\n",
              "    <tr>\n",
              "      <th>1</th>\n",
              "      <td>1002945</td>\n",
              "      <td>5</td>\n",
              "      <td>4</td>\n",
              "      <td>4</td>\n",
              "      <td>5</td>\n",
              "      <td>7</td>\n",
              "      <td>10</td>\n",
              "      <td>3</td>\n",
              "      <td>2</td>\n",
              "      <td>1</td>\n",
              "      <td>benign</td>\n",
              "    </tr>\n",
              "    <tr>\n",
              "      <th>2</th>\n",
              "      <td>1015425</td>\n",
              "      <td>3</td>\n",
              "      <td>1</td>\n",
              "      <td>1</td>\n",
              "      <td>1</td>\n",
              "      <td>2</td>\n",
              "      <td>2</td>\n",
              "      <td>3</td>\n",
              "      <td>1</td>\n",
              "      <td>1</td>\n",
              "      <td>benign</td>\n",
              "    </tr>\n",
              "  </tbody>\n",
              "</table>\n",
              "</div>"
            ],
            "text/plain": [
              "   sampcode  clump  uni_size  uni_shape  ...  chromatin  nucleoli  mitoses   class\n",
              "0   1000025      5         1          1  ...          3         1        1  benign\n",
              "1   1002945      5         4          4  ...          3         2        1  benign\n",
              "2   1015425      3         1          1  ...          3         1        1  benign\n",
              "\n",
              "[3 rows x 11 columns]"
            ]
          },
          "metadata": {
            "tags": []
          },
          "execution_count": 11
        }
      ]
    },
    {
      "cell_type": "code",
      "metadata": {
        "id": "Y2qLkkKmQaAg",
        "colab": {
          "base_uri": "https://localhost:8080/",
          "height": 297
        },
        "outputId": "1c42d2e7-10b4-45a1-ce76-14d83c15b938"
      },
      "source": [
        "#Rimozione della feature sampcode, non utile alla fine dell'analisi che si vuole portare avanti\n",
        "dataset_DF = dataset_DF.drop(\"sampcode\", axis=1)\n",
        "dataset_DF.describe()"
      ],
      "execution_count": 12,
      "outputs": [
        {
          "output_type": "execute_result",
          "data": {
            "text/html": [
              "<div>\n",
              "<style scoped>\n",
              "    .dataframe tbody tr th:only-of-type {\n",
              "        vertical-align: middle;\n",
              "    }\n",
              "\n",
              "    .dataframe tbody tr th {\n",
              "        vertical-align: top;\n",
              "    }\n",
              "\n",
              "    .dataframe thead th {\n",
              "        text-align: right;\n",
              "    }\n",
              "</style>\n",
              "<table border=\"1\" class=\"dataframe\">\n",
              "  <thead>\n",
              "    <tr style=\"text-align: right;\">\n",
              "      <th></th>\n",
              "      <th>clump</th>\n",
              "      <th>uni_size</th>\n",
              "      <th>uni_shape</th>\n",
              "      <th>adhesion</th>\n",
              "      <th>epith_size</th>\n",
              "      <th>nuclei</th>\n",
              "      <th>chromatin</th>\n",
              "      <th>nucleoli</th>\n",
              "      <th>mitoses</th>\n",
              "    </tr>\n",
              "  </thead>\n",
              "  <tbody>\n",
              "    <tr>\n",
              "      <th>count</th>\n",
              "      <td>683.000000</td>\n",
              "      <td>683.000000</td>\n",
              "      <td>683.000000</td>\n",
              "      <td>683.000000</td>\n",
              "      <td>683.000000</td>\n",
              "      <td>683.000000</td>\n",
              "      <td>683.000000</td>\n",
              "      <td>683.000000</td>\n",
              "      <td>683.000000</td>\n",
              "    </tr>\n",
              "    <tr>\n",
              "      <th>mean</th>\n",
              "      <td>4.442167</td>\n",
              "      <td>3.150805</td>\n",
              "      <td>3.215227</td>\n",
              "      <td>2.830161</td>\n",
              "      <td>3.234261</td>\n",
              "      <td>3.544656</td>\n",
              "      <td>3.445095</td>\n",
              "      <td>2.869693</td>\n",
              "      <td>1.603221</td>\n",
              "    </tr>\n",
              "    <tr>\n",
              "      <th>std</th>\n",
              "      <td>2.820761</td>\n",
              "      <td>3.065145</td>\n",
              "      <td>2.988581</td>\n",
              "      <td>2.864562</td>\n",
              "      <td>2.223085</td>\n",
              "      <td>3.643857</td>\n",
              "      <td>2.449697</td>\n",
              "      <td>3.052666</td>\n",
              "      <td>1.732674</td>\n",
              "    </tr>\n",
              "    <tr>\n",
              "      <th>min</th>\n",
              "      <td>1.000000</td>\n",
              "      <td>1.000000</td>\n",
              "      <td>1.000000</td>\n",
              "      <td>1.000000</td>\n",
              "      <td>1.000000</td>\n",
              "      <td>1.000000</td>\n",
              "      <td>1.000000</td>\n",
              "      <td>1.000000</td>\n",
              "      <td>1.000000</td>\n",
              "    </tr>\n",
              "    <tr>\n",
              "      <th>25%</th>\n",
              "      <td>2.000000</td>\n",
              "      <td>1.000000</td>\n",
              "      <td>1.000000</td>\n",
              "      <td>1.000000</td>\n",
              "      <td>2.000000</td>\n",
              "      <td>1.000000</td>\n",
              "      <td>2.000000</td>\n",
              "      <td>1.000000</td>\n",
              "      <td>1.000000</td>\n",
              "    </tr>\n",
              "    <tr>\n",
              "      <th>50%</th>\n",
              "      <td>4.000000</td>\n",
              "      <td>1.000000</td>\n",
              "      <td>1.000000</td>\n",
              "      <td>1.000000</td>\n",
              "      <td>2.000000</td>\n",
              "      <td>1.000000</td>\n",
              "      <td>3.000000</td>\n",
              "      <td>1.000000</td>\n",
              "      <td>1.000000</td>\n",
              "    </tr>\n",
              "    <tr>\n",
              "      <th>75%</th>\n",
              "      <td>6.000000</td>\n",
              "      <td>5.000000</td>\n",
              "      <td>5.000000</td>\n",
              "      <td>4.000000</td>\n",
              "      <td>4.000000</td>\n",
              "      <td>6.000000</td>\n",
              "      <td>5.000000</td>\n",
              "      <td>4.000000</td>\n",
              "      <td>1.000000</td>\n",
              "    </tr>\n",
              "    <tr>\n",
              "      <th>max</th>\n",
              "      <td>10.000000</td>\n",
              "      <td>10.000000</td>\n",
              "      <td>10.000000</td>\n",
              "      <td>10.000000</td>\n",
              "      <td>10.000000</td>\n",
              "      <td>10.000000</td>\n",
              "      <td>10.000000</td>\n",
              "      <td>10.000000</td>\n",
              "      <td>10.000000</td>\n",
              "    </tr>\n",
              "  </tbody>\n",
              "</table>\n",
              "</div>"
            ],
            "text/plain": [
              "            clump    uni_size   uni_shape  ...   chromatin    nucleoli     mitoses\n",
              "count  683.000000  683.000000  683.000000  ...  683.000000  683.000000  683.000000\n",
              "mean     4.442167    3.150805    3.215227  ...    3.445095    2.869693    1.603221\n",
              "std      2.820761    3.065145    2.988581  ...    2.449697    3.052666    1.732674\n",
              "min      1.000000    1.000000    1.000000  ...    1.000000    1.000000    1.000000\n",
              "25%      2.000000    1.000000    1.000000  ...    2.000000    1.000000    1.000000\n",
              "50%      4.000000    1.000000    1.000000  ...    3.000000    1.000000    1.000000\n",
              "75%      6.000000    5.000000    5.000000  ...    5.000000    4.000000    1.000000\n",
              "max     10.000000   10.000000   10.000000  ...   10.000000   10.000000   10.000000\n",
              "\n",
              "[8 rows x 9 columns]"
            ]
          },
          "metadata": {
            "tags": []
          },
          "execution_count": 12
        }
      ]
    },
    {
      "cell_type": "code",
      "metadata": {
        "id": "ZTI1G2FoMfVh",
        "colab": {
          "base_uri": "https://localhost:8080/",
          "height": 297
        },
        "outputId": "2f0b9e84-8db0-4547-dc4e-814438bad798"
      },
      "source": [
        "# Description of only benign cancer occurances in the dataset\n",
        "dataset_DF.loc[dataset_DF['class'] == \"benign\"].describe()"
      ],
      "execution_count": 13,
      "outputs": [
        {
          "output_type": "execute_result",
          "data": {
            "text/html": [
              "<div>\n",
              "<style scoped>\n",
              "    .dataframe tbody tr th:only-of-type {\n",
              "        vertical-align: middle;\n",
              "    }\n",
              "\n",
              "    .dataframe tbody tr th {\n",
              "        vertical-align: top;\n",
              "    }\n",
              "\n",
              "    .dataframe thead th {\n",
              "        text-align: right;\n",
              "    }\n",
              "</style>\n",
              "<table border=\"1\" class=\"dataframe\">\n",
              "  <thead>\n",
              "    <tr style=\"text-align: right;\">\n",
              "      <th></th>\n",
              "      <th>clump</th>\n",
              "      <th>uni_size</th>\n",
              "      <th>uni_shape</th>\n",
              "      <th>adhesion</th>\n",
              "      <th>epith_size</th>\n",
              "      <th>nuclei</th>\n",
              "      <th>chromatin</th>\n",
              "      <th>nucleoli</th>\n",
              "      <th>mitoses</th>\n",
              "    </tr>\n",
              "  </thead>\n",
              "  <tbody>\n",
              "    <tr>\n",
              "      <th>count</th>\n",
              "      <td>444.000000</td>\n",
              "      <td>444.000000</td>\n",
              "      <td>444.000000</td>\n",
              "      <td>444.000000</td>\n",
              "      <td>444.000000</td>\n",
              "      <td>444.000000</td>\n",
              "      <td>444.000000</td>\n",
              "      <td>444.000000</td>\n",
              "      <td>444.000000</td>\n",
              "    </tr>\n",
              "    <tr>\n",
              "      <th>mean</th>\n",
              "      <td>2.963964</td>\n",
              "      <td>1.306306</td>\n",
              "      <td>1.414414</td>\n",
              "      <td>1.346847</td>\n",
              "      <td>2.108108</td>\n",
              "      <td>1.346847</td>\n",
              "      <td>2.083333</td>\n",
              "      <td>1.261261</td>\n",
              "      <td>1.065315</td>\n",
              "    </tr>\n",
              "    <tr>\n",
              "      <th>std</th>\n",
              "      <td>1.672661</td>\n",
              "      <td>0.855657</td>\n",
              "      <td>0.957031</td>\n",
              "      <td>0.917088</td>\n",
              "      <td>0.877112</td>\n",
              "      <td>1.177848</td>\n",
              "      <td>1.062299</td>\n",
              "      <td>0.954606</td>\n",
              "      <td>0.509738</td>\n",
              "    </tr>\n",
              "    <tr>\n",
              "      <th>min</th>\n",
              "      <td>1.000000</td>\n",
              "      <td>1.000000</td>\n",
              "      <td>1.000000</td>\n",
              "      <td>1.000000</td>\n",
              "      <td>1.000000</td>\n",
              "      <td>1.000000</td>\n",
              "      <td>1.000000</td>\n",
              "      <td>1.000000</td>\n",
              "      <td>1.000000</td>\n",
              "    </tr>\n",
              "    <tr>\n",
              "      <th>25%</th>\n",
              "      <td>1.000000</td>\n",
              "      <td>1.000000</td>\n",
              "      <td>1.000000</td>\n",
              "      <td>1.000000</td>\n",
              "      <td>2.000000</td>\n",
              "      <td>1.000000</td>\n",
              "      <td>1.000000</td>\n",
              "      <td>1.000000</td>\n",
              "      <td>1.000000</td>\n",
              "    </tr>\n",
              "    <tr>\n",
              "      <th>50%</th>\n",
              "      <td>3.000000</td>\n",
              "      <td>1.000000</td>\n",
              "      <td>1.000000</td>\n",
              "      <td>1.000000</td>\n",
              "      <td>2.000000</td>\n",
              "      <td>1.000000</td>\n",
              "      <td>2.000000</td>\n",
              "      <td>1.000000</td>\n",
              "      <td>1.000000</td>\n",
              "    </tr>\n",
              "    <tr>\n",
              "      <th>75%</th>\n",
              "      <td>4.000000</td>\n",
              "      <td>1.000000</td>\n",
              "      <td>1.000000</td>\n",
              "      <td>1.000000</td>\n",
              "      <td>2.000000</td>\n",
              "      <td>1.000000</td>\n",
              "      <td>3.000000</td>\n",
              "      <td>1.000000</td>\n",
              "      <td>1.000000</td>\n",
              "    </tr>\n",
              "    <tr>\n",
              "      <th>max</th>\n",
              "      <td>8.000000</td>\n",
              "      <td>9.000000</td>\n",
              "      <td>8.000000</td>\n",
              "      <td>10.000000</td>\n",
              "      <td>10.000000</td>\n",
              "      <td>10.000000</td>\n",
              "      <td>7.000000</td>\n",
              "      <td>8.000000</td>\n",
              "      <td>8.000000</td>\n",
              "    </tr>\n",
              "  </tbody>\n",
              "</table>\n",
              "</div>"
            ],
            "text/plain": [
              "            clump    uni_size   uni_shape  ...   chromatin    nucleoli     mitoses\n",
              "count  444.000000  444.000000  444.000000  ...  444.000000  444.000000  444.000000\n",
              "mean     2.963964    1.306306    1.414414  ...    2.083333    1.261261    1.065315\n",
              "std      1.672661    0.855657    0.957031  ...    1.062299    0.954606    0.509738\n",
              "min      1.000000    1.000000    1.000000  ...    1.000000    1.000000    1.000000\n",
              "25%      1.000000    1.000000    1.000000  ...    1.000000    1.000000    1.000000\n",
              "50%      3.000000    1.000000    1.000000  ...    2.000000    1.000000    1.000000\n",
              "75%      4.000000    1.000000    1.000000  ...    3.000000    1.000000    1.000000\n",
              "max      8.000000    9.000000    8.000000  ...    7.000000    8.000000    8.000000\n",
              "\n",
              "[8 rows x 9 columns]"
            ]
          },
          "metadata": {
            "tags": []
          },
          "execution_count": 13
        }
      ]
    },
    {
      "cell_type": "code",
      "metadata": {
        "id": "LIM-s_rPOFP4",
        "colab": {
          "base_uri": "https://localhost:8080/",
          "height": 297
        },
        "outputId": "7c9549cf-4804-4e27-9466-72b5dde64eab"
      },
      "source": [
        "# Description of only malign cancer occurances in the dataset\n",
        "dataset_DF.loc[dataset_DF['class'] == \"malign\"].describe()"
      ],
      "execution_count": 14,
      "outputs": [
        {
          "output_type": "execute_result",
          "data": {
            "text/html": [
              "<div>\n",
              "<style scoped>\n",
              "    .dataframe tbody tr th:only-of-type {\n",
              "        vertical-align: middle;\n",
              "    }\n",
              "\n",
              "    .dataframe tbody tr th {\n",
              "        vertical-align: top;\n",
              "    }\n",
              "\n",
              "    .dataframe thead th {\n",
              "        text-align: right;\n",
              "    }\n",
              "</style>\n",
              "<table border=\"1\" class=\"dataframe\">\n",
              "  <thead>\n",
              "    <tr style=\"text-align: right;\">\n",
              "      <th></th>\n",
              "      <th>clump</th>\n",
              "      <th>uni_size</th>\n",
              "      <th>uni_shape</th>\n",
              "      <th>adhesion</th>\n",
              "      <th>epith_size</th>\n",
              "      <th>nuclei</th>\n",
              "      <th>chromatin</th>\n",
              "      <th>nucleoli</th>\n",
              "      <th>mitoses</th>\n",
              "    </tr>\n",
              "  </thead>\n",
              "  <tbody>\n",
              "    <tr>\n",
              "      <th>count</th>\n",
              "      <td>239.000000</td>\n",
              "      <td>239.000000</td>\n",
              "      <td>239.000000</td>\n",
              "      <td>239.000000</td>\n",
              "      <td>239.000000</td>\n",
              "      <td>239.000000</td>\n",
              "      <td>239.000000</td>\n",
              "      <td>239.000000</td>\n",
              "      <td>239.000000</td>\n",
              "    </tr>\n",
              "    <tr>\n",
              "      <th>mean</th>\n",
              "      <td>7.188285</td>\n",
              "      <td>6.577406</td>\n",
              "      <td>6.560669</td>\n",
              "      <td>5.585774</td>\n",
              "      <td>5.326360</td>\n",
              "      <td>7.627615</td>\n",
              "      <td>5.974895</td>\n",
              "      <td>5.857741</td>\n",
              "      <td>2.602510</td>\n",
              "    </tr>\n",
              "    <tr>\n",
              "      <th>std</th>\n",
              "      <td>2.437907</td>\n",
              "      <td>2.724244</td>\n",
              "      <td>2.569104</td>\n",
              "      <td>3.196631</td>\n",
              "      <td>2.443087</td>\n",
              "      <td>3.116679</td>\n",
              "      <td>2.282422</td>\n",
              "      <td>3.348876</td>\n",
              "      <td>2.564495</td>\n",
              "    </tr>\n",
              "    <tr>\n",
              "      <th>min</th>\n",
              "      <td>1.000000</td>\n",
              "      <td>1.000000</td>\n",
              "      <td>1.000000</td>\n",
              "      <td>1.000000</td>\n",
              "      <td>1.000000</td>\n",
              "      <td>1.000000</td>\n",
              "      <td>1.000000</td>\n",
              "      <td>1.000000</td>\n",
              "      <td>1.000000</td>\n",
              "    </tr>\n",
              "    <tr>\n",
              "      <th>25%</th>\n",
              "      <td>5.000000</td>\n",
              "      <td>4.000000</td>\n",
              "      <td>4.000000</td>\n",
              "      <td>3.000000</td>\n",
              "      <td>3.000000</td>\n",
              "      <td>5.000000</td>\n",
              "      <td>4.000000</td>\n",
              "      <td>3.000000</td>\n",
              "      <td>1.000000</td>\n",
              "    </tr>\n",
              "    <tr>\n",
              "      <th>50%</th>\n",
              "      <td>8.000000</td>\n",
              "      <td>6.000000</td>\n",
              "      <td>6.000000</td>\n",
              "      <td>5.000000</td>\n",
              "      <td>5.000000</td>\n",
              "      <td>10.000000</td>\n",
              "      <td>7.000000</td>\n",
              "      <td>6.000000</td>\n",
              "      <td>1.000000</td>\n",
              "    </tr>\n",
              "    <tr>\n",
              "      <th>75%</th>\n",
              "      <td>10.000000</td>\n",
              "      <td>10.000000</td>\n",
              "      <td>9.000000</td>\n",
              "      <td>8.000000</td>\n",
              "      <td>6.500000</td>\n",
              "      <td>10.000000</td>\n",
              "      <td>7.000000</td>\n",
              "      <td>9.500000</td>\n",
              "      <td>3.000000</td>\n",
              "    </tr>\n",
              "    <tr>\n",
              "      <th>max</th>\n",
              "      <td>10.000000</td>\n",
              "      <td>10.000000</td>\n",
              "      <td>10.000000</td>\n",
              "      <td>10.000000</td>\n",
              "      <td>10.000000</td>\n",
              "      <td>10.000000</td>\n",
              "      <td>10.000000</td>\n",
              "      <td>10.000000</td>\n",
              "      <td>10.000000</td>\n",
              "    </tr>\n",
              "  </tbody>\n",
              "</table>\n",
              "</div>"
            ],
            "text/plain": [
              "            clump    uni_size   uni_shape  ...   chromatin    nucleoli     mitoses\n",
              "count  239.000000  239.000000  239.000000  ...  239.000000  239.000000  239.000000\n",
              "mean     7.188285    6.577406    6.560669  ...    5.974895    5.857741    2.602510\n",
              "std      2.437907    2.724244    2.569104  ...    2.282422    3.348876    2.564495\n",
              "min      1.000000    1.000000    1.000000  ...    1.000000    1.000000    1.000000\n",
              "25%      5.000000    4.000000    4.000000  ...    4.000000    3.000000    1.000000\n",
              "50%      8.000000    6.000000    6.000000  ...    7.000000    6.000000    1.000000\n",
              "75%     10.000000   10.000000    9.000000  ...    7.000000    9.500000    3.000000\n",
              "max     10.000000   10.000000   10.000000  ...   10.000000   10.000000   10.000000\n",
              "\n",
              "[8 rows x 9 columns]"
            ]
          },
          "metadata": {
            "tags": []
          },
          "execution_count": 14
        }
      ]
    },
    {
      "cell_type": "code",
      "metadata": {
        "id": "hlSxNJlTIPHw",
        "colab": {
          "base_uri": "https://localhost:8080/",
          "height": 419
        },
        "outputId": "e9025996-bef2-4587-e78c-04509576abcc"
      },
      "source": [
        "encoded = pd.concat([dataset_DF.iloc[:, 0:9], dataset_DF[\"class\"].replace(\"benign\", 0).replace(\"malign\", 1)], axis=1)\n",
        "encoded"
      ],
      "execution_count": 15,
      "outputs": [
        {
          "output_type": "execute_result",
          "data": {
            "text/html": [
              "<div>\n",
              "<style scoped>\n",
              "    .dataframe tbody tr th:only-of-type {\n",
              "        vertical-align: middle;\n",
              "    }\n",
              "\n",
              "    .dataframe tbody tr th {\n",
              "        vertical-align: top;\n",
              "    }\n",
              "\n",
              "    .dataframe thead th {\n",
              "        text-align: right;\n",
              "    }\n",
              "</style>\n",
              "<table border=\"1\" class=\"dataframe\">\n",
              "  <thead>\n",
              "    <tr style=\"text-align: right;\">\n",
              "      <th></th>\n",
              "      <th>clump</th>\n",
              "      <th>uni_size</th>\n",
              "      <th>uni_shape</th>\n",
              "      <th>adhesion</th>\n",
              "      <th>epith_size</th>\n",
              "      <th>nuclei</th>\n",
              "      <th>chromatin</th>\n",
              "      <th>nucleoli</th>\n",
              "      <th>mitoses</th>\n",
              "      <th>class</th>\n",
              "    </tr>\n",
              "  </thead>\n",
              "  <tbody>\n",
              "    <tr>\n",
              "      <th>0</th>\n",
              "      <td>5</td>\n",
              "      <td>1</td>\n",
              "      <td>1</td>\n",
              "      <td>1</td>\n",
              "      <td>2</td>\n",
              "      <td>1</td>\n",
              "      <td>3</td>\n",
              "      <td>1</td>\n",
              "      <td>1</td>\n",
              "      <td>0</td>\n",
              "    </tr>\n",
              "    <tr>\n",
              "      <th>1</th>\n",
              "      <td>5</td>\n",
              "      <td>4</td>\n",
              "      <td>4</td>\n",
              "      <td>5</td>\n",
              "      <td>7</td>\n",
              "      <td>10</td>\n",
              "      <td>3</td>\n",
              "      <td>2</td>\n",
              "      <td>1</td>\n",
              "      <td>0</td>\n",
              "    </tr>\n",
              "    <tr>\n",
              "      <th>2</th>\n",
              "      <td>3</td>\n",
              "      <td>1</td>\n",
              "      <td>1</td>\n",
              "      <td>1</td>\n",
              "      <td>2</td>\n",
              "      <td>2</td>\n",
              "      <td>3</td>\n",
              "      <td>1</td>\n",
              "      <td>1</td>\n",
              "      <td>0</td>\n",
              "    </tr>\n",
              "    <tr>\n",
              "      <th>3</th>\n",
              "      <td>6</td>\n",
              "      <td>8</td>\n",
              "      <td>8</td>\n",
              "      <td>1</td>\n",
              "      <td>3</td>\n",
              "      <td>4</td>\n",
              "      <td>3</td>\n",
              "      <td>7</td>\n",
              "      <td>1</td>\n",
              "      <td>0</td>\n",
              "    </tr>\n",
              "    <tr>\n",
              "      <th>4</th>\n",
              "      <td>4</td>\n",
              "      <td>1</td>\n",
              "      <td>1</td>\n",
              "      <td>3</td>\n",
              "      <td>2</td>\n",
              "      <td>1</td>\n",
              "      <td>3</td>\n",
              "      <td>1</td>\n",
              "      <td>1</td>\n",
              "      <td>0</td>\n",
              "    </tr>\n",
              "    <tr>\n",
              "      <th>...</th>\n",
              "      <td>...</td>\n",
              "      <td>...</td>\n",
              "      <td>...</td>\n",
              "      <td>...</td>\n",
              "      <td>...</td>\n",
              "      <td>...</td>\n",
              "      <td>...</td>\n",
              "      <td>...</td>\n",
              "      <td>...</td>\n",
              "      <td>...</td>\n",
              "    </tr>\n",
              "    <tr>\n",
              "      <th>694</th>\n",
              "      <td>3</td>\n",
              "      <td>1</td>\n",
              "      <td>1</td>\n",
              "      <td>1</td>\n",
              "      <td>3</td>\n",
              "      <td>2</td>\n",
              "      <td>1</td>\n",
              "      <td>1</td>\n",
              "      <td>1</td>\n",
              "      <td>0</td>\n",
              "    </tr>\n",
              "    <tr>\n",
              "      <th>695</th>\n",
              "      <td>2</td>\n",
              "      <td>1</td>\n",
              "      <td>1</td>\n",
              "      <td>1</td>\n",
              "      <td>2</td>\n",
              "      <td>1</td>\n",
              "      <td>1</td>\n",
              "      <td>1</td>\n",
              "      <td>1</td>\n",
              "      <td>0</td>\n",
              "    </tr>\n",
              "    <tr>\n",
              "      <th>696</th>\n",
              "      <td>5</td>\n",
              "      <td>10</td>\n",
              "      <td>10</td>\n",
              "      <td>3</td>\n",
              "      <td>7</td>\n",
              "      <td>3</td>\n",
              "      <td>8</td>\n",
              "      <td>10</td>\n",
              "      <td>2</td>\n",
              "      <td>1</td>\n",
              "    </tr>\n",
              "    <tr>\n",
              "      <th>697</th>\n",
              "      <td>4</td>\n",
              "      <td>8</td>\n",
              "      <td>6</td>\n",
              "      <td>4</td>\n",
              "      <td>3</td>\n",
              "      <td>4</td>\n",
              "      <td>10</td>\n",
              "      <td>6</td>\n",
              "      <td>1</td>\n",
              "      <td>1</td>\n",
              "    </tr>\n",
              "    <tr>\n",
              "      <th>698</th>\n",
              "      <td>4</td>\n",
              "      <td>8</td>\n",
              "      <td>8</td>\n",
              "      <td>5</td>\n",
              "      <td>4</td>\n",
              "      <td>5</td>\n",
              "      <td>10</td>\n",
              "      <td>4</td>\n",
              "      <td>1</td>\n",
              "      <td>1</td>\n",
              "    </tr>\n",
              "  </tbody>\n",
              "</table>\n",
              "<p>683 rows × 10 columns</p>\n",
              "</div>"
            ],
            "text/plain": [
              "     clump  uni_size  uni_shape  adhesion  ...  chromatin  nucleoli  mitoses  class\n",
              "0        5         1          1         1  ...          3         1        1      0\n",
              "1        5         4          4         5  ...          3         2        1      0\n",
              "2        3         1          1         1  ...          3         1        1      0\n",
              "3        6         8          8         1  ...          3         7        1      0\n",
              "4        4         1          1         3  ...          3         1        1      0\n",
              "..     ...       ...        ...       ...  ...        ...       ...      ...    ...\n",
              "694      3         1          1         1  ...          1         1        1      0\n",
              "695      2         1          1         1  ...          1         1        1      0\n",
              "696      5        10         10         3  ...          8        10        2      1\n",
              "697      4         8          6         4  ...         10         6        1      1\n",
              "698      4         8          8         5  ...         10         4        1      1\n",
              "\n",
              "[683 rows x 10 columns]"
            ]
          },
          "metadata": {
            "tags": []
          },
          "execution_count": 15
        }
      ]
    },
    {
      "cell_type": "markdown",
      "metadata": {
        "id": "2Yux5MZdUWUw"
      },
      "source": [
        "# Visualization"
      ]
    },
    {
      "cell_type": "code",
      "metadata": {
        "id": "feoY1HfqfQwd",
        "colab": {
          "base_uri": "https://localhost:8080/",
          "height": 606
        },
        "outputId": "6d7d18af-56be-4ab9-cfd4-2ee4cacc11bd"
      },
      "source": [
        "fig, ax1 = plt.subplots(figsize=(20,10), facecolor = \"white\")\n",
        "col_dict = {\"benign\":\"#81c784\", \"malign\": \"#e57373\"}\n",
        "graph = sns.countplot(dataset_DF[\"class\"], palette=col_dict);\n",
        "graph.set_xticklabels(graph.get_xticklabels())\n",
        "for p in graph.patches:\n",
        "    height = p.get_height()\n",
        "    graph.text(p.get_x()+p.get_width()/2., height + 0.1,height ,ha=\"center\");"
      ],
      "execution_count": 16,
      "outputs": [
        {
          "output_type": "display_data",
          "data": {
            "image/png": "[encoded data removed]",
            "text/plain": [
              "<Figure size 1440x720 with 1 Axes>"
            ]
          },
          "metadata": {
            "tags": []
          }
        }
      ]
    },
    {
      "cell_type": "code",
      "metadata": {
        "id": "QkTCgCC9P5qd",
        "colab": {
          "base_uri": "https://localhost:8080/",
          "height": 846
        },
        "outputId": "613614d4-d03f-466c-9b08-538b683aa4f3"
      },
      "source": [
        "f,ax = plt.subplots(figsize=(15,15), facecolor=\"white\")\n",
        "mask = np.triu(np.ones_like(encoded.corr(), dtype=bool))\n",
        "sns.heatmap(encoded.corr(), annot=True, linewidths=0.5, fmt='.2f', cmap='Reds', ax=ax, square=True, mask=mask);"
      ],
      "execution_count": 17,
      "outputs": [
        {
          "output_type": "display_data",
          "data": {
            "image/png": "[encoded data removed]",
            "text/plain": [
              "<Figure size 1080x1080 with 2 Axes>"
            ]
          },
          "metadata": {
            "tags": []
          }
        }
      ]
    },
    {
      "cell_type": "code",
      "metadata": {
        "id": "F3O79uJsRuPH",
        "colab": {
          "base_uri": "https://localhost:8080/",
          "height": 1000
        },
        "outputId": "015ec256-bb43-4847-fefb-7384e33d4ef0"
      },
      "source": [
        "plt.subplots(3, 3, figsize = (20, 20), facecolor = \"white\")\n",
        "\n",
        "for i, col in enumerate(dataset_DF.columns[:9]):\n",
        "  plt.subplot(3, 3, i+1)\n",
        "  sns.histplot(dataset_DF.loc[dataset_DF['class'] == 'benign', col], stat=\"probability\", label='benign', color=\"#81c784\", element=\"bars\", discrete=True, kde=True)\n",
        "  sns.histplot(dataset_DF.loc[dataset_DF['class'] == 'malign', col], stat=\"probability\", label='malign', color=\"#e57373\", element=\"bars\", discrete=True, kde=True)\n",
        "  plt.title(col)\n",
        "  plt.xticks(np.arange(1,10,1))\n",
        "  plt.legend(loc='upper right')"
      ],
      "execution_count": 18,
      "outputs": [
        {
          "output_type": "display_data",
          "data": {
            "image/png": "[encoded data removed]",
            "text/plain": [
              "<Figure size 1440x1440 with 9 Axes>"
            ]
          },
          "metadata": {
            "tags": []
          }
        }
      ]
    },
    {
      "cell_type": "code",
      "metadata": {
        "id": "RKypg7rFQAQq"
      },
      "source": [
        "if viz:\n",
        "  plt.subplots(3, 3, figsize = (20, 20), facecolor = \"white\")\n",
        "  for i, col in enumerate(dataset_DF.columns[:9]):\n",
        "    plt.subplot(3, 3, i+1)\n",
        "    sns.swarmplot(y=dataset_DF.iloc[:, i] , x=\"class\", size=2, palette=col_dict, data=dataset_DF);\n",
        "    plt.xlabel(\"Type of Cancer\", size=14)"
      ],
      "execution_count": 19,
      "outputs": []
    },
    {
      "cell_type": "code",
      "metadata": {
        "id": "hfC1CpiFex_Z",
        "cellView": "both"
      },
      "source": [
        "if viz:\n",
        "  sns.set_style(\"ticks\")\n",
        "  sns.pairplot(dataset_DF, hue = \"class\", diag_kind=\"kde\", height=2, palette=col_dict)"
      ],
      "execution_count": 20,
      "outputs": []
    },
    {
      "cell_type": "markdown",
      "metadata": {
        "id": "3NIInQsmUcOS"
      },
      "source": [
        "# Processing"
      ]
    },
    {
      "cell_type": "code",
      "metadata": {
        "id": "m5y6Y3_bK4sM",
        "colab": {
          "base_uri": "https://localhost:8080/",
          "height": 419
        },
        "outputId": "9922a059-2e05-4f22-a0c6-8ef246a98758"
      },
      "source": [
        "#splitting data and target dataframe\n",
        "x = dataset_DF.reset_index(drop=True)\n",
        "x_unscaled = x\n",
        "seed = 42\n",
        "x_unscaled"
      ],
      "execution_count": 21,
      "outputs": [
        {
          "output_type": "execute_result",
          "data": {
            "text/html": [
              "<div>\n",
              "<style scoped>\n",
              "    .dataframe tbody tr th:only-of-type {\n",
              "        vertical-align: middle;\n",
              "    }\n",
              "\n",
              "    .dataframe tbody tr th {\n",
              "        vertical-align: top;\n",
              "    }\n",
              "\n",
              "    .dataframe thead th {\n",
              "        text-align: right;\n",
              "    }\n",
              "</style>\n",
              "<table border=\"1\" class=\"dataframe\">\n",
              "  <thead>\n",
              "    <tr style=\"text-align: right;\">\n",
              "      <th></th>\n",
              "      <th>clump</th>\n",
              "      <th>uni_size</th>\n",
              "      <th>uni_shape</th>\n",
              "      <th>adhesion</th>\n",
              "      <th>epith_size</th>\n",
              "      <th>nuclei</th>\n",
              "      <th>chromatin</th>\n",
              "      <th>nucleoli</th>\n",
              "      <th>mitoses</th>\n",
              "      <th>class</th>\n",
              "    </tr>\n",
              "  </thead>\n",
              "  <tbody>\n",
              "    <tr>\n",
              "      <th>0</th>\n",
              "      <td>5</td>\n",
              "      <td>1</td>\n",
              "      <td>1</td>\n",
              "      <td>1</td>\n",
              "      <td>2</td>\n",
              "      <td>1</td>\n",
              "      <td>3</td>\n",
              "      <td>1</td>\n",
              "      <td>1</td>\n",
              "      <td>benign</td>\n",
              "    </tr>\n",
              "    <tr>\n",
              "      <th>1</th>\n",
              "      <td>5</td>\n",
              "      <td>4</td>\n",
              "      <td>4</td>\n",
              "      <td>5</td>\n",
              "      <td>7</td>\n",
              "      <td>10</td>\n",
              "      <td>3</td>\n",
              "      <td>2</td>\n",
              "      <td>1</td>\n",
              "      <td>benign</td>\n",
              "    </tr>\n",
              "    <tr>\n",
              "      <th>2</th>\n",
              "      <td>3</td>\n",
              "      <td>1</td>\n",
              "      <td>1</td>\n",
              "      <td>1</td>\n",
              "      <td>2</td>\n",
              "      <td>2</td>\n",
              "      <td>3</td>\n",
              "      <td>1</td>\n",
              "      <td>1</td>\n",
              "      <td>benign</td>\n",
              "    </tr>\n",
              "    <tr>\n",
              "      <th>3</th>\n",
              "      <td>6</td>\n",
              "      <td>8</td>\n",
              "      <td>8</td>\n",
              "      <td>1</td>\n",
              "      <td>3</td>\n",
              "      <td>4</td>\n",
              "      <td>3</td>\n",
              "      <td>7</td>\n",
              "      <td>1</td>\n",
              "      <td>benign</td>\n",
              "    </tr>\n",
              "    <tr>\n",
              "      <th>4</th>\n",
              "      <td>4</td>\n",
              "      <td>1</td>\n",
              "      <td>1</td>\n",
              "      <td>3</td>\n",
              "      <td>2</td>\n",
              "      <td>1</td>\n",
              "      <td>3</td>\n",
              "      <td>1</td>\n",
              "      <td>1</td>\n",
              "      <td>benign</td>\n",
              "    </tr>\n",
              "    <tr>\n",
              "      <th>...</th>\n",
              "      <td>...</td>\n",
              "      <td>...</td>\n",
              "      <td>...</td>\n",
              "      <td>...</td>\n",
              "      <td>...</td>\n",
              "      <td>...</td>\n",
              "      <td>...</td>\n",
              "      <td>...</td>\n",
              "      <td>...</td>\n",
              "      <td>...</td>\n",
              "    </tr>\n",
              "    <tr>\n",
              "      <th>678</th>\n",
              "      <td>3</td>\n",
              "      <td>1</td>\n",
              "      <td>1</td>\n",
              "      <td>1</td>\n",
              "      <td>3</td>\n",
              "      <td>2</td>\n",
              "      <td>1</td>\n",
              "      <td>1</td>\n",
              "      <td>1</td>\n",
              "      <td>benign</td>\n",
              "    </tr>\n",
              "    <tr>\n",
              "      <th>679</th>\n",
              "      <td>2</td>\n",
              "      <td>1</td>\n",
              "      <td>1</td>\n",
              "      <td>1</td>\n",
              "      <td>2</td>\n",
              "      <td>1</td>\n",
              "      <td>1</td>\n",
              "      <td>1</td>\n",
              "      <td>1</td>\n",
              "      <td>benign</td>\n",
              "    </tr>\n",
              "    <tr>\n",
              "      <th>680</th>\n",
              "      <td>5</td>\n",
              "      <td>10</td>\n",
              "      <td>10</td>\n",
              "      <td>3</td>\n",
              "      <td>7</td>\n",
              "      <td>3</td>\n",
              "      <td>8</td>\n",
              "      <td>10</td>\n",
              "      <td>2</td>\n",
              "      <td>malign</td>\n",
              "    </tr>\n",
              "    <tr>\n",
              "      <th>681</th>\n",
              "      <td>4</td>\n",
              "      <td>8</td>\n",
              "      <td>6</td>\n",
              "      <td>4</td>\n",
              "      <td>3</td>\n",
              "      <td>4</td>\n",
              "      <td>10</td>\n",
              "      <td>6</td>\n",
              "      <td>1</td>\n",
              "      <td>malign</td>\n",
              "    </tr>\n",
              "    <tr>\n",
              "      <th>682</th>\n",
              "      <td>4</td>\n",
              "      <td>8</td>\n",
              "      <td>8</td>\n",
              "      <td>5</td>\n",
              "      <td>4</td>\n",
              "      <td>5</td>\n",
              "      <td>10</td>\n",
              "      <td>4</td>\n",
              "      <td>1</td>\n",
              "      <td>malign</td>\n",
              "    </tr>\n",
              "  </tbody>\n",
              "</table>\n",
              "<p>683 rows × 10 columns</p>\n",
              "</div>"
            ],
            "text/plain": [
              "     clump  uni_size  uni_shape  adhesion  ...  chromatin  nucleoli  mitoses   class\n",
              "0        5         1          1         1  ...          3         1        1  benign\n",
              "1        5         4          4         5  ...          3         2        1  benign\n",
              "2        3         1          1         1  ...          3         1        1  benign\n",
              "3        6         8          8         1  ...          3         7        1  benign\n",
              "4        4         1          1         3  ...          3         1        1  benign\n",
              "..     ...       ...        ...       ...  ...        ...       ...      ...     ...\n",
              "678      3         1          1         1  ...          1         1        1  benign\n",
              "679      2         1          1         1  ...          1         1        1  benign\n",
              "680      5        10         10         3  ...          8        10        2  malign\n",
              "681      4         8          6         4  ...         10         6        1  malign\n",
              "682      4         8          8         5  ...         10         4        1  malign\n",
              "\n",
              "[683 rows x 10 columns]"
            ]
          },
          "metadata": {
            "tags": []
          },
          "execution_count": 21
        }
      ]
    },
    {
      "cell_type": "code",
      "metadata": {
        "id": "Oml-BNj0dh63",
        "colab": {
          "base_uri": "https://localhost:8080/"
        },
        "outputId": "56a1b1ae-4966-4110-fb6d-23d12d475aeb"
      },
      "source": [
        "scaler = StandardScaler()\n",
        "x_scaled = scaler.fit_transform(x.iloc[:, :9])\n",
        "x_scaled"
      ],
      "execution_count": 22,
      "outputs": [
        {
          "output_type": "execute_result",
          "data": {
            "text/plain": [
              "array([[ 0.19790469, -0.70221201, -0.74177362, ..., -0.18182716,\n",
              "        -0.61292736, -0.34839971],\n",
              "       [ 0.19790469,  0.27725185,  0.26278299, ..., -0.18182716,\n",
              "        -0.28510482, -0.34839971],\n",
              "       [-0.51164337, -0.70221201, -0.74177362, ..., -0.18182716,\n",
              "        -0.61292736, -0.34839971],\n",
              "       ...,\n",
              "       [ 0.19790469,  2.23617957,  2.2718962 , ...,  1.86073779,\n",
              "         2.33747554,  0.22916583],\n",
              "       [-0.15686934,  1.58320366,  0.93248739, ...,  2.67776377,\n",
              "         1.02618536, -0.34839971],\n",
              "       [-0.15686934,  1.58320366,  1.6021918 , ...,  2.67776377,\n",
              "         0.37054027, -0.34839971]])"
            ]
          },
          "metadata": {
            "tags": []
          },
          "execution_count": 22
        }
      ]
    },
    {
      "cell_type": "code",
      "metadata": {
        "id": "GG1TbyQ_tmgO"
      },
      "source": [
        "scaled_DF = pd.DataFrame(data=x_scaled, columns=['clump', 'uni_size', 'uni_shape',\t'adhesion',\t'epith_size',\t'nuclei',\t'chromatin', 'nucleoli',\t'mitoses'])\r\n",
        "scaled_DF_with_labels = pd.concat((scaled_DF ,(dataset_DF.iloc[:, 9].reset_index(drop=True))), axis=1)"
      ],
      "execution_count": 23,
      "outputs": []
    },
    {
      "cell_type": "code",
      "metadata": {
        "id": "YgyuAD4roU1s",
        "colab": {
          "base_uri": "https://localhost:8080/",
          "height": 419
        },
        "outputId": "11376528-6a3d-43e5-e1d1-9faaa3f972c8"
      },
      "source": [
        "scaled_DF"
      ],
      "execution_count": 24,
      "outputs": [
        {
          "output_type": "execute_result",
          "data": {
            "text/html": [
              "<div>\n",
              "<style scoped>\n",
              "    .dataframe tbody tr th:only-of-type {\n",
              "        vertical-align: middle;\n",
              "    }\n",
              "\n",
              "    .dataframe tbody tr th {\n",
              "        vertical-align: top;\n",
              "    }\n",
              "\n",
              "    .dataframe thead th {\n",
              "        text-align: right;\n",
              "    }\n",
              "</style>\n",
              "<table border=\"1\" class=\"dataframe\">\n",
              "  <thead>\n",
              "    <tr style=\"text-align: right;\">\n",
              "      <th></th>\n",
              "      <th>clump</th>\n",
              "      <th>uni_size</th>\n",
              "      <th>uni_shape</th>\n",
              "      <th>adhesion</th>\n",
              "      <th>epith_size</th>\n",
              "      <th>nuclei</th>\n",
              "      <th>chromatin</th>\n",
              "      <th>nucleoli</th>\n",
              "      <th>mitoses</th>\n",
              "    </tr>\n",
              "  </thead>\n",
              "  <tbody>\n",
              "    <tr>\n",
              "      <th>0</th>\n",
              "      <td>0.197905</td>\n",
              "      <td>-0.702212</td>\n",
              "      <td>-0.741774</td>\n",
              "      <td>-0.639366</td>\n",
              "      <td>-0.555608</td>\n",
              "      <td>-0.698853</td>\n",
              "      <td>-0.181827</td>\n",
              "      <td>-0.612927</td>\n",
              "      <td>-0.348400</td>\n",
              "    </tr>\n",
              "    <tr>\n",
              "      <th>1</th>\n",
              "      <td>0.197905</td>\n",
              "      <td>0.277252</td>\n",
              "      <td>0.262783</td>\n",
              "      <td>0.758032</td>\n",
              "      <td>1.695166</td>\n",
              "      <td>1.772867</td>\n",
              "      <td>-0.181827</td>\n",
              "      <td>-0.285105</td>\n",
              "      <td>-0.348400</td>\n",
              "    </tr>\n",
              "    <tr>\n",
              "      <th>2</th>\n",
              "      <td>-0.511643</td>\n",
              "      <td>-0.702212</td>\n",
              "      <td>-0.741774</td>\n",
              "      <td>-0.639366</td>\n",
              "      <td>-0.555608</td>\n",
              "      <td>-0.424217</td>\n",
              "      <td>-0.181827</td>\n",
              "      <td>-0.612927</td>\n",
              "      <td>-0.348400</td>\n",
              "    </tr>\n",
              "    <tr>\n",
              "      <th>3</th>\n",
              "      <td>0.552679</td>\n",
              "      <td>1.583204</td>\n",
              "      <td>1.602192</td>\n",
              "      <td>-0.639366</td>\n",
              "      <td>-0.105454</td>\n",
              "      <td>0.125054</td>\n",
              "      <td>-0.181827</td>\n",
              "      <td>1.354008</td>\n",
              "      <td>-0.348400</td>\n",
              "    </tr>\n",
              "    <tr>\n",
              "      <th>4</th>\n",
              "      <td>-0.156869</td>\n",
              "      <td>-0.702212</td>\n",
              "      <td>-0.741774</td>\n",
              "      <td>0.059333</td>\n",
              "      <td>-0.555608</td>\n",
              "      <td>-0.698853</td>\n",
              "      <td>-0.181827</td>\n",
              "      <td>-0.612927</td>\n",
              "      <td>-0.348400</td>\n",
              "    </tr>\n",
              "    <tr>\n",
              "      <th>...</th>\n",
              "      <td>...</td>\n",
              "      <td>...</td>\n",
              "      <td>...</td>\n",
              "      <td>...</td>\n",
              "      <td>...</td>\n",
              "      <td>...</td>\n",
              "      <td>...</td>\n",
              "      <td>...</td>\n",
              "      <td>...</td>\n",
              "    </tr>\n",
              "    <tr>\n",
              "      <th>678</th>\n",
              "      <td>-0.511643</td>\n",
              "      <td>-0.702212</td>\n",
              "      <td>-0.741774</td>\n",
              "      <td>-0.639366</td>\n",
              "      <td>-0.105454</td>\n",
              "      <td>-0.424217</td>\n",
              "      <td>-0.998853</td>\n",
              "      <td>-0.612927</td>\n",
              "      <td>-0.348400</td>\n",
              "    </tr>\n",
              "    <tr>\n",
              "      <th>679</th>\n",
              "      <td>-0.866417</td>\n",
              "      <td>-0.702212</td>\n",
              "      <td>-0.741774</td>\n",
              "      <td>-0.639366</td>\n",
              "      <td>-0.555608</td>\n",
              "      <td>-0.698853</td>\n",
              "      <td>-0.998853</td>\n",
              "      <td>-0.612927</td>\n",
              "      <td>-0.348400</td>\n",
              "    </tr>\n",
              "    <tr>\n",
              "      <th>680</th>\n",
              "      <td>0.197905</td>\n",
              "      <td>2.236180</td>\n",
              "      <td>2.271896</td>\n",
              "      <td>0.059333</td>\n",
              "      <td>1.695166</td>\n",
              "      <td>-0.149582</td>\n",
              "      <td>1.860738</td>\n",
              "      <td>2.337476</td>\n",
              "      <td>0.229166</td>\n",
              "    </tr>\n",
              "    <tr>\n",
              "      <th>681</th>\n",
              "      <td>-0.156869</td>\n",
              "      <td>1.583204</td>\n",
              "      <td>0.932487</td>\n",
              "      <td>0.408682</td>\n",
              "      <td>-0.105454</td>\n",
              "      <td>0.125054</td>\n",
              "      <td>2.677764</td>\n",
              "      <td>1.026185</td>\n",
              "      <td>-0.348400</td>\n",
              "    </tr>\n",
              "    <tr>\n",
              "      <th>682</th>\n",
              "      <td>-0.156869</td>\n",
              "      <td>1.583204</td>\n",
              "      <td>1.602192</td>\n",
              "      <td>0.758032</td>\n",
              "      <td>0.344701</td>\n",
              "      <td>0.399689</td>\n",
              "      <td>2.677764</td>\n",
              "      <td>0.370540</td>\n",
              "      <td>-0.348400</td>\n",
              "    </tr>\n",
              "  </tbody>\n",
              "</table>\n",
              "<p>683 rows × 9 columns</p>\n",
              "</div>"
            ],
            "text/plain": [
              "        clump  uni_size  uni_shape  ...  chromatin  nucleoli   mitoses\n",
              "0    0.197905 -0.702212  -0.741774  ...  -0.181827 -0.612927 -0.348400\n",
              "1    0.197905  0.277252   0.262783  ...  -0.181827 -0.285105 -0.348400\n",
              "2   -0.511643 -0.702212  -0.741774  ...  -0.181827 -0.612927 -0.348400\n",
              "3    0.552679  1.583204   1.602192  ...  -0.181827  1.354008 -0.348400\n",
              "4   -0.156869 -0.702212  -0.741774  ...  -0.181827 -0.612927 -0.348400\n",
              "..        ...       ...        ...  ...        ...       ...       ...\n",
              "678 -0.511643 -0.702212  -0.741774  ...  -0.998853 -0.612927 -0.348400\n",
              "679 -0.866417 -0.702212  -0.741774  ...  -0.998853 -0.612927 -0.348400\n",
              "680  0.197905  2.236180   2.271896  ...   1.860738  2.337476  0.229166\n",
              "681 -0.156869  1.583204   0.932487  ...   2.677764  1.026185 -0.348400\n",
              "682 -0.156869  1.583204   1.602192  ...   2.677764  0.370540 -0.348400\n",
              "\n",
              "[683 rows x 9 columns]"
            ]
          },
          "metadata": {
            "tags": []
          },
          "execution_count": 24
        }
      ]
    },
    {
      "cell_type": "code",
      "metadata": {
        "id": "1qU4grsEvXOw",
        "outputId": "07c53669-82fe-4cd2-e4df-a748658e5477",
        "colab": {
          "base_uri": "https://localhost:8080/",
          "height": 647
        }
      },
      "source": [
        "plt.figure(figsize=(15,11))\r\n",
        "ax = sns.boxplot(data=scaled_DF_with_labels, palette='colorblind')"
      ],
      "execution_count": 25,
      "outputs": [
        {
          "output_type": "display_data",
          "data": {
            "image/png": "[encoded data removed]",
            "text/plain": [
              "<Figure size 1080x792 with 1 Axes>"
            ]
          },
          "metadata": {
            "tags": [],
            "needs_background": "light"
          }
        }
      ]
    },
    {
      "cell_type": "code",
      "metadata": {
        "id": "tn4T1cgAgQ_5",
        "colab": {
          "base_uri": "https://localhost:8080/",
          "height": 647
        },
        "outputId": "273dec03-65d7-4bc9-dda2-612443661825"
      },
      "source": [
        "plt.figure(figsize=(15,11))\r\n",
        "ax = sns.boxplot(data=x_unscaled, palette='colorblind')"
      ],
      "execution_count": 26,
      "outputs": [
        {
          "output_type": "display_data",
          "data": {
            "image/png": "[encoded data removed]",
            "text/plain": [
              "<Figure size 1080x792 with 1 Axes>"
            ]
          },
          "metadata": {
            "tags": [],
            "needs_background": "light"
          }
        }
      ]
    },
    {
      "cell_type": "code",
      "metadata": {
        "id": "DYjjmKI4nM2r"
      },
      "source": [
        "x = scaled_DF_with_labels.iloc[:, :9]\r\n",
        "y = scaled_DF_with_labels.iloc[:, 9].replace(\"benign\", 0).replace(\"malign\", 1)"
      ],
      "execution_count": 27,
      "outputs": []
    },
    {
      "cell_type": "code",
      "metadata": {
        "id": "RaG--_t4kMDF",
        "colab": {
          "base_uri": "https://localhost:8080/",
          "height": 694
        },
        "outputId": "8d489a2a-7165-46ad-c697-034a9a044888"
      },
      "source": [
        "\n",
        "from sklearn.decomposition import PCA\n",
        "\n",
        "pca = PCA(random_state=SEED).fit(x)\n",
        "plt.figure(figsize=(15,11))\n",
        "plt.plot(np.cumsum(pca.explained_variance_ratio_))\n",
        "plt.plot(pca.explained_variance_ratio_)\n",
        "plt.xlabel('number of components')\n",
        "plt.ylabel('proportion of variance explained');\n",
        "plt.yticks(np.arange(0, 1.1, 0.1))\n",
        "plt.grid()\n",
        "plt.legend(['Cumulative Variance', 'Component Variance'])\n",
        "print(np.cumsum(pca.explained_variance_ratio_))\n"
      ],
      "execution_count": 28,
      "outputs": [
        {
          "output_type": "stream",
          "text": [
            "[0.65549993 0.74171625 0.80163316 0.85270288 0.89495575 0.92849758\n",
            " 0.96120899 0.99017964 1.        ]\n"
          ],
          "name": "stdout"
        },
        {
          "output_type": "display_data",
          "data": {
            "image/png": "[encoded data removed]",
            "text/plain": [
              "<Figure size 1080x792 with 1 Axes>"
            ]
          },
          "metadata": {
            "tags": [],
            "needs_background": "light"
          }
        }
      ]
    },
    {
      "cell_type": "code",
      "metadata": {
        "id": "TwwSOJj-QIRo"
      },
      "source": [
        "pca = PCA(n_components = 5)\n",
        "x_pca = pca.fit_transform(x)"
      ],
      "execution_count": 29,
      "outputs": []
    },
    {
      "cell_type": "code",
      "metadata": {
        "id": "Rwh6SBB7RmRb",
        "colab": {
          "base_uri": "https://localhost:8080/",
          "height": 419
        },
        "outputId": "bb574281-33e4-44d1-d39c-116aa2aeb862"
      },
      "source": [
        "x_pca_DF = pd.DataFrame(data=x_pca)\n",
        "x_pca_DF"
      ],
      "execution_count": 30,
      "outputs": [
        {
          "output_type": "execute_result",
          "data": {
            "text/html": [
              "<div>\n",
              "<style scoped>\n",
              "    .dataframe tbody tr th:only-of-type {\n",
              "        vertical-align: middle;\n",
              "    }\n",
              "\n",
              "    .dataframe tbody tr th {\n",
              "        vertical-align: top;\n",
              "    }\n",
              "\n",
              "    .dataframe thead th {\n",
              "        text-align: right;\n",
              "    }\n",
              "</style>\n",
              "<table border=\"1\" class=\"dataframe\">\n",
              "  <thead>\n",
              "    <tr style=\"text-align: right;\">\n",
              "      <th></th>\n",
              "      <th>0</th>\n",
              "      <th>1</th>\n",
              "      <th>2</th>\n",
              "      <th>3</th>\n",
              "      <th>4</th>\n",
              "    </tr>\n",
              "  </thead>\n",
              "  <tbody>\n",
              "    <tr>\n",
              "      <th>0</th>\n",
              "      <td>-1.470171</td>\n",
              "      <td>-0.104273</td>\n",
              "      <td>-0.565685</td>\n",
              "      <td>-0.031959</td>\n",
              "      <td>-0.150998</td>\n",
              "    </tr>\n",
              "    <tr>\n",
              "      <th>1</th>\n",
              "      <td>1.442046</td>\n",
              "      <td>-0.570141</td>\n",
              "      <td>0.236601</td>\n",
              "      <td>-0.478150</td>\n",
              "      <td>1.643085</td>\n",
              "    </tr>\n",
              "    <tr>\n",
              "      <th>2</th>\n",
              "      <td>-1.592478</td>\n",
              "      <td>-0.076120</td>\n",
              "      <td>0.048858</td>\n",
              "      <td>-0.092388</td>\n",
              "      <td>-0.059739</td>\n",
              "    </tr>\n",
              "    <tr>\n",
              "      <th>3</th>\n",
              "      <td>1.479812</td>\n",
              "      <td>-0.528452</td>\n",
              "      <td>-0.603048</td>\n",
              "      <td>1.410827</td>\n",
              "      <td>-0.560737</td>\n",
              "    </tr>\n",
              "    <tr>\n",
              "      <th>4</th>\n",
              "      <td>-1.344862</td>\n",
              "      <td>-0.090719</td>\n",
              "      <td>0.029997</td>\n",
              "      <td>-0.338284</td>\n",
              "      <td>-0.108829</td>\n",
              "    </tr>\n",
              "    <tr>\n",
              "      <th>...</th>\n",
              "      <td>...</td>\n",
              "      <td>...</td>\n",
              "      <td>...</td>\n",
              "      <td>...</td>\n",
              "      <td>...</td>\n",
              "    </tr>\n",
              "    <tr>\n",
              "      <th>678</th>\n",
              "      <td>-1.723605</td>\n",
              "      <td>0.184232</td>\n",
              "      <td>-0.085730</td>\n",
              "      <td>0.110661</td>\n",
              "      <td>0.412880</td>\n",
              "    </tr>\n",
              "    <tr>\n",
              "      <th>679</th>\n",
              "      <td>-2.074148</td>\n",
              "      <td>0.231929</td>\n",
              "      <td>0.182329</td>\n",
              "      <td>0.093465</td>\n",
              "      <td>0.120498</td>\n",
              "    </tr>\n",
              "    <tr>\n",
              "      <th>680</th>\n",
              "      <td>3.789261</td>\n",
              "      <td>-0.142209</td>\n",
              "      <td>0.662144</td>\n",
              "      <td>2.496133</td>\n",
              "      <td>-0.443185</td>\n",
              "    </tr>\n",
              "    <tr>\n",
              "      <th>681</th>\n",
              "      <td>2.240007</td>\n",
              "      <td>-1.091287</td>\n",
              "      <td>1.031890</td>\n",
              "      <td>0.678641</td>\n",
              "      <td>-0.980591</td>\n",
              "    </tr>\n",
              "    <tr>\n",
              "      <th>682</th>\n",
              "      <td>2.632462</td>\n",
              "      <td>-1.184698</td>\n",
              "      <td>1.104894</td>\n",
              "      <td>0.406101</td>\n",
              "      <td>-0.127754</td>\n",
              "    </tr>\n",
              "  </tbody>\n",
              "</table>\n",
              "<p>683 rows × 5 columns</p>\n",
              "</div>"
            ],
            "text/plain": [
              "            0         1         2         3         4\n",
              "0   -1.470171 -0.104273 -0.565685 -0.031959 -0.150998\n",
              "1    1.442046 -0.570141  0.236601 -0.478150  1.643085\n",
              "2   -1.592478 -0.076120  0.048858 -0.092388 -0.059739\n",
              "3    1.479812 -0.528452 -0.603048  1.410827 -0.560737\n",
              "4   -1.344862 -0.090719  0.029997 -0.338284 -0.108829\n",
              "..        ...       ...       ...       ...       ...\n",
              "678 -1.723605  0.184232 -0.085730  0.110661  0.412880\n",
              "679 -2.074148  0.231929  0.182329  0.093465  0.120498\n",
              "680  3.789261 -0.142209  0.662144  2.496133 -0.443185\n",
              "681  2.240007 -1.091287  1.031890  0.678641 -0.980591\n",
              "682  2.632462 -1.184698  1.104894  0.406101 -0.127754\n",
              "\n",
              "[683 rows x 5 columns]"
            ]
          },
          "metadata": {
            "tags": []
          },
          "execution_count": 30
        }
      ]
    },
    {
      "cell_type": "code",
      "metadata": {
        "id": "WMliXXCppdqE"
      },
      "source": [
        "#without pca performances are worsened bc\n",
        "#The PCA is a change of variables, using the correlations explained by orthogonal directions.\n",
        "#Removing directions with non-representative corresponding correlation is like removing noise. You will only keep significant data."
      ],
      "execution_count": 31,
      "outputs": []
    },
    {
      "cell_type": "markdown",
      "metadata": {
        "id": "cWzF5o0BUgTV"
      },
      "source": [
        "# Classification"
      ]
    },
    {
      "cell_type": "code",
      "metadata": {
        "id": "3ILZLBWOs4vF"
      },
      "source": [
        "X_train_val, X_test, y_train_val, y_test = train_test_split(x_pca, y, test_size=0.30, random_state=SEED,stratify=y)"
      ],
      "execution_count": 32,
      "outputs": []
    },
    {
      "cell_type": "code",
      "metadata": {
        "id": "th6GOi5qt23t"
      },
      "source": [
        "final_report = {'LoRe': [], 'DTree': [], 'RF': [], 'KNN': [], 'SVM': []}"
      ],
      "execution_count": 33,
      "outputs": []
    },
    {
      "cell_type": "markdown",
      "metadata": {
        "id": "urqyn9LAW76e"
      },
      "source": [
        "##Logistic Regression\n",
        "---"
      ]
    },
    {
      "cell_type": "code",
      "metadata": {
        "id": "m2EEevo9voSs",
        "colab": {
          "base_uri": "https://localhost:8080/"
        },
        "outputId": "0b7841b1-ad92-4c15-8fb6-61c18be76898"
      },
      "source": [
        "#To avoid overfitting we use KFold Stratified (stratidication given class imbalance)\n",
        "# Some classification problems can exhibit a large imbalance in the distribution of the target classes: for instance there could be several times more negative samples than positive samples. \n",
        "# In such cases it is recommended to use stratified sampling as implemented in StratifiedKFold and StratifiedShuffleSplit to ensure that relative class frequencies is approximately preserved in each train and validation fold.\n",
        "\n",
        "kf = StratifiedKFold(n_splits=10, shuffle=True)\n",
        "\n",
        "# StratifiedKFold is a variation of k-fold which returns stratified folds: each set contains approximately the same percentage of samples of each target class as the complete set.\n",
        "\n",
        "scores = []\n",
        "for train_index, test_index in kf.split(X_train_val,y_train_val):\n",
        "    X_train, X_val = X_train_val[train_index], X_train_val[test_index]\n",
        "    y_train, y_val = y_train_val.iloc[train_index], y_train_val.iloc[test_index]\n",
        "    \n",
        "\n",
        "    #Classification\n",
        "    loRe = LogisticRegression(solver='newton-cg', multi_class='ovr', C=50)\n",
        "    loRe.fit(X_train, y_train)\n",
        "    pred = loRe.predict(X_val)\n",
        "    scores.append(f1_score(pred,y_val))\n",
        "print(f\"mean score {np.mean(scores)}\")"
      ],
      "execution_count": 34,
      "outputs": [
        {
          "output_type": "stream",
          "text": [
            "mean score 0.9636038961038962\n"
          ],
          "name": "stdout"
        }
      ]
    },
    {
      "cell_type": "code",
      "metadata": {
        "id": "HCia_SUjhu0T",
        "colab": {
          "base_uri": "https://localhost:8080/",
          "height": 728
        },
        "outputId": "222dcae9-edcc-458e-f521-9850d9218b75"
      },
      "source": [
        "# results on the test set\n",
        "loRe = LogisticRegression(solver='newton-cg', multi_class='ovr', C=50)\n",
        "loRe.fit(X_train_val, y_train_val)\n",
        "pred = loRe.predict(X_test)\n",
        "final_report['LoRe'].append(accuracy_score(pred,y_test))\n",
        "print(f\"Accuracy = {accuracy_score(pred,y_test)}\")\n",
        "final_report['LoRe'].append(f1_score(pred,y_test))\n",
        "print(f\"F1 = {f1_score(pred,y_test)}\")\n",
        "final_report['LoRe'].append(precision_score(pred,y_test))\n",
        "print(f\"Precision = {precision_score(pred,y_test)}\")\n",
        "final_report['LoRe'].append(recall_score(pred,y_test))\n",
        "print(f\"Recall = {recall_score(pred,y_test)}\")\n",
        "plt.figure(figsize=(15,11))\n",
        "confmat(y_test,pred)"
      ],
      "execution_count": 35,
      "outputs": [
        {
          "output_type": "stream",
          "text": [
            "Accuracy = 0.9609756097560975\n",
            "F1 = 0.9452054794520548\n",
            "Precision = 0.9583333333333334\n",
            "Recall = 0.9324324324324325\n"
          ],
          "name": "stdout"
        },
        {
          "output_type": "display_data",
          "data": {
            "image/png": "[encoded data removed]",
            "text/plain": [
              "<Figure size 1080x792 with 2 Axes>"
            ]
          },
          "metadata": {
            "tags": [],
            "needs_background": "light"
          }
        }
      ]
    },
    {
      "cell_type": "markdown",
      "metadata": {
        "id": "ZjYRU8UvWrbF"
      },
      "source": [
        "Decision Tree CLF\n",
        "---"
      ]
    },
    {
      "cell_type": "code",
      "metadata": {
        "id": "4FjiL4OXh08P",
        "colab": {
          "base_uri": "https://localhost:8080/"
        },
        "outputId": "25cb605b-14d9-41bf-86f5-8ede47295e7f"
      },
      "source": [
        "kf = StratifiedKFold(n_splits=10, shuffle=True)\n",
        "\n",
        "# StratifiedKFold is a variation of k-fold which returns stratified folds: each set contains approximately the same percentage of samples of each target class as the complete set.\n",
        "\n",
        "scores = []\n",
        "for train_index, test_index in kf.split(X_train_val,y_train_val):\n",
        "    X_train, X_val = X_train_val[train_index], X_train_val[test_index]\n",
        "    y_train, y_val = y_train_val.iloc[train_index], y_train_val.iloc[test_index]\n",
        "    \n",
        "    #Classification\n",
        "    dTree = DecisionTreeClassifier()\n",
        "    dTree.fit(X_train, y_train)\n",
        "    pred = dTree.predict(X_val)\n",
        "    scores.append(f1_score(pred,y_val))\n",
        "print(f\"mean score {np.mean(scores)}\")"
      ],
      "execution_count": 36,
      "outputs": [
        {
          "output_type": "stream",
          "text": [
            "mean score 0.9550264196587726\n"
          ],
          "name": "stdout"
        }
      ]
    },
    {
      "cell_type": "code",
      "metadata": {
        "id": "eo1U7WNgon1U",
        "colab": {
          "base_uri": "https://localhost:8080/",
          "height": 728
        },
        "outputId": "e31a74d6-32be-4044-dae7-cb67570265f4"
      },
      "source": [
        "# results on the test set\n",
        "dTree = DecisionTreeClassifier()\n",
        "dTree.fit(X_train_val, y_train_val)\n",
        "pred = dTree.predict(X_test)\n",
        "final_report['DTree'].append(accuracy_score(pred,y_test))\n",
        "print(f\"Accuracy = {accuracy_score(pred,y_test)}\")\n",
        "final_report['DTree'].append(f1_score(pred,y_test))\n",
        "print(f\"F1 = {f1_score(pred,y_test)}\")\n",
        "final_report['DTree'].append(precision_score(pred,y_test))\n",
        "print(f\"Precision = {precision_score(pred,y_test)}\")\n",
        "final_report['DTree'].append(recall_score(pred,y_test))\n",
        "print(f\"Recall = {recall_score(pred,y_test)}\")\n",
        "plt.figure(figsize=(15,11))\n",
        "confmat(y_test, pred)"
      ],
      "execution_count": 37,
      "outputs": [
        {
          "output_type": "stream",
          "text": [
            "Accuracy = 0.9658536585365853\n",
            "F1 = 0.9523809523809524\n",
            "Precision = 0.9722222222222222\n",
            "Recall = 0.9333333333333333\n"
          ],
          "name": "stdout"
        },
        {
          "output_type": "display_data",
          "data": {
            "image/png": "[encoded data removed]",
            "text/plain": [
              "<Figure size 1080x792 with 2 Axes>"
            ]
          },
          "metadata": {
            "tags": [],
            "needs_background": "light"
          }
        }
      ]
    },
    {
      "cell_type": "markdown",
      "metadata": {
        "id": "3Tal6zKQTUqX"
      },
      "source": [
        "Random Forest CLF\n",
        "---"
      ]
    },
    {
      "cell_type": "code",
      "metadata": {
        "id": "raCCnPJDRLYV"
      },
      "source": [
        "if tune:\r\n",
        "  #List Hyperparameters that we want to tune.\r\n",
        "  estimators_list = [50, 70, 90, 100, 110, 130, 140]\r\n",
        "  features_list = [\"log2\", \"sqrt\", \"auto\"]\r\n",
        "  sample_leafs_list = [2, 4, 8, 10]\r\n",
        "  #Convert to dictionary\r\n",
        "  hyperparameters = dict(n_estimators=estimators_list, max_features=features_list, min_samples_leaf = sample_leafs_list)\r\n",
        "  #Create new KNN object\r\n",
        "  rfc = RandomForestClassifier()\r\n",
        "  #Use GridSearch\r\n",
        "  clf = GridSearchCV(rfc, hyperparameters, cv=10, n_jobs=-1, scoring = scoring)\r\n",
        "  #Fit the model\r\n",
        "  best_model = clf.fit(x_pca,y)\r\n",
        "  #Print The value of best Hyperparameters\r\n",
        "  print('Best estimator:', best_model.best_estimator_.get_params()['n_estimators'])\r\n",
        "  print('Best feature:', best_model.best_estimator_.get_params()['max_features'])\r\n",
        "  print('Best sample leaf:', best_model.best_estimator_.get_params()['min_samples_leaf'])"
      ],
      "execution_count": 38,
      "outputs": []
    },
    {
      "cell_type": "code",
      "metadata": {
        "id": "Pm2xKpA3dbJS",
        "colab": {
          "base_uri": "https://localhost:8080/"
        },
        "outputId": "c53e2cb6-b7c3-49b7-9097-5e14ddc54b55"
      },
      "source": [
        "#To avoid overfitting we use KFold Stratified (stratidication given class imbalance)\r\n",
        "# Some classification problems can exhibit a large imbalance in the distribution of the target classes: for instance there could be several times more negative samples than positive samples. \r\n",
        "# In such cases it is recommended to use stratified sampling as implemented in StratifiedKFold and StratifiedShuffleSplit to ensure that relative class frequencies is approximately preserved in each train and validation fold.\r\n",
        "\r\n",
        "kf = StratifiedKFold(n_splits=10, shuffle=True)\r\n",
        "\r\n",
        "# StratifiedKFold is a variation of k-fold which returns stratified folds: each set contains approximately the same percentage of samples of each target class as the complete set.\r\n",
        "\r\n",
        "scores = []\r\n",
        "for train_index, test_index in kf.split(X_train_val,y_train_val):\r\n",
        "    #print(\"TRAIN:\", train_index, \"TEST:\", test_index)\r\n",
        "    X_train, X_val = X_train_val[train_index], X_train_val[test_index]\r\n",
        "    y_train, y_val = y_train_val.iloc[train_index], y_train_val.iloc[test_index]\r\n",
        "\r\n",
        "    #Classification\r\n",
        "    clf = RandomForestClassifier(n_estimators = 70, min_samples_leaf = 4, max_features='log2', random_state = 42)\r\n",
        "    if tune:\r\n",
        "      clf = RandomForestClassifier(n_estimators = best_model.best_estimator_.get_params()['n_estimators'], min_samples_leaf = best_model.best_estimator_.get_params()['min_samples_leaf'], max_features=best_model.best_estimator_.get_params()['max_features'], random_state = 42)\r\n",
        "    clf.fit(X_train, y_train)\r\n",
        "    pred = clf.predict(X_val)\r\n",
        "    scores.append(f1_score(pred,y_val))\r\n",
        "print(f\"mean score {np.mean(scores)}\")"
      ],
      "execution_count": 39,
      "outputs": [
        {
          "output_type": "stream",
          "text": [
            "mean score 0.957000103869299\n"
          ],
          "name": "stdout"
        }
      ]
    },
    {
      "cell_type": "code",
      "metadata": {
        "colab": {
          "base_uri": "https://localhost:8080/",
          "height": 728
        },
        "id": "457C-NniS9yl",
        "outputId": "89bd58a1-f73d-490d-9ae2-46e961811597"
      },
      "source": [
        "# results on the test set\r\n",
        "clf = RandomForestClassifier(n_estimators = 70, min_samples_leaf = 4, max_features='log2', random_state = 42)\r\n",
        "if tune:\r\n",
        "  clf = RandomForestClassifier(n_estimators = best_model.best_estimator_.get_params()['n_estimators'], min_samples_leaf = best_model.best_estimator_.get_params()['min_samples_leaf'], max_features=best_model.best_estimator_.get_params()['max_features'], random_state = 42)\r\n",
        "clf.fit(X_train_val, y_train_val)\r\n",
        "pred = clf.predict(X_test)\r\n",
        "final_report['RF'].append(accuracy_score(pred,y_test))\r\n",
        "print(f\"Accuracy = {accuracy_score(pred,y_test)}\")\r\n",
        "final_report['RF'].append(f1_score(pred,y_test))\r\n",
        "print(f\"F1 = {f1_score(pred,y_test)}\")\r\n",
        "final_report['RF'].append(precision_score(pred,y_test))\r\n",
        "print(f\"Precision = {precision_score(pred,y_test)}\")\r\n",
        "final_report['RF'].append(recall_score(pred,y_test))\r\n",
        "print(f\"Recall = {recall_score(pred,y_test)}\")\r\n",
        "plt.figure(figsize=(15,11))\r\n",
        "confmat(y_test, pred)"
      ],
      "execution_count": 40,
      "outputs": [
        {
          "output_type": "stream",
          "text": [
            "Accuracy = 0.9707317073170731\n",
            "F1 = 0.9594594594594595\n",
            "Precision = 0.9861111111111112\n",
            "Recall = 0.9342105263157895\n"
          ],
          "name": "stdout"
        },
        {
          "output_type": "display_data",
          "data": {
            "image/png": "[encoded data removed]",
            "text/plain": [
              "<Figure size 1080x792 with 2 Axes>"
            ]
          },
          "metadata": {
            "tags": [],
            "needs_background": "light"
          }
        }
      ]
    },
    {
      "cell_type": "markdown",
      "metadata": {
        "id": "lbljwxhjXDCn"
      },
      "source": [
        "KNeighbors CLF\n",
        "---"
      ]
    },
    {
      "cell_type": "code",
      "metadata": {
        "id": "SLFv9tp4R8lK"
      },
      "source": [
        "if tune:\n",
        "  #List Hyperparameters that we want to tune.\n",
        "  leaf_size = list(range(1,50))\n",
        "  n_neighbors = list(range(1,30))\n",
        "  algorithm_list = ['auto', 'ball_tree', 'kd_tree', 'brute']\n",
        "  p=[1,2]\n",
        "  #Convert to dictionary\n",
        "  hyperparameters = dict(leaf_size=leaf_size, algorithm = algorithm_list, n_neighbors=n_neighbors, p=p)\n",
        "  #Create new KNN object\n",
        "  knn = KNeighborsClassifier()\n",
        "  #Use GridSearch\n",
        "  clf = GridSearchCV(knn, hyperparameters, cv=10, n_jobs=-1, scoring= scoring)\n",
        "  #Fit the model\n",
        "  best_model = clf.fit(x_pca,y)\n",
        "  #Print The value of best Hyperparameters\n",
        "  print('Best leaf_size:', best_model.best_estimator_.get_params()['leaf_size'])\n",
        "  print('Best p:', best_model.best_estimator_.get_params()['p'])\n",
        "  print('Best n_neighbors:', best_model.best_estimator_.get_params()['n_neighbors'])"
      ],
      "execution_count": 41,
      "outputs": []
    },
    {
      "cell_type": "code",
      "metadata": {
        "id": "XMaVTc6erZTk",
        "colab": {
          "base_uri": "https://localhost:8080/"
        },
        "outputId": "7e9b70b5-063f-42cf-a0c1-8537823f7bd4"
      },
      "source": [
        "#To avoid overfitting we use KFold Stratified (stratidication given class imbalance)\n",
        "# Some classification problems can exhibit a large imbalance in the distribution of the target classes: for instance there could be several times more negative samples than positive samples. \n",
        "# In such cases it is recommended to use stratified sampling as implemented in StratifiedKFold and StratifiedShuffleSplit to ensure that relative class frequencies is approximately preserved in each train and validation fold.\n",
        "\n",
        "kf = StratifiedKFold(n_splits=10, shuffle=True)\n",
        "\n",
        "# StratifiedKFold is a variation of k-fold which returns stratified folds: each set contains approximately the same percentage of samples of each target class as the complete set.\n",
        "\n",
        "scores = []\n",
        "for train_index, test_index in kf.split(X_train_val,y_train_val):\n",
        "    X_train, X_val = X_train_val[train_index], X_train_val[test_index]\n",
        "    y_train, y_val = y_train_val.iloc[train_index], y_train_val.iloc[test_index]\n",
        "    \n",
        "    #Classification\n",
        "    knn = KNeighborsClassifier(leaf_size=1, p=2, n_neighbors=5)\n",
        "    if tune:\n",
        "      knn = KNeighborsClassifier(leaf_size=best_model.best_estimator_.get_params()['leaf_size'], p=best_model.best_estimator_.get_params()['p'], n_neighbors=best_model.best_estimator_.get_params()['n_neighbors'])\n",
        "    \n",
        "    knn.fit(X_train, y_train)\n",
        "    pred = knn.predict(X_val)\n",
        "    scores.append(f1_score(pred,y_val))\n",
        "print(f\"mean score {np.mean(scores)}\")"
      ],
      "execution_count": 42,
      "outputs": [
        {
          "output_type": "stream",
          "text": [
            "mean score 0.9643016297428062\n"
          ],
          "name": "stdout"
        }
      ]
    },
    {
      "cell_type": "code",
      "metadata": {
        "id": "3zjr2bq8Q1hQ",
        "colab": {
          "base_uri": "https://localhost:8080/",
          "height": 728
        },
        "outputId": "ebff5622-b6b6-4d61-ffa1-5c05afe7ea8e"
      },
      "source": [
        "# results on the test set\n",
        "knn = KNeighborsClassifier(leaf_size=1, p=2, n_neighbors=5)\n",
        "if tune:\n",
        "  knn = KNeighborsClassifier(leaf_size=best_model.best_estimator_.get_params()['leaf_size'], p=best_model.best_estimator_.get_params()['p'], n_neighbors=best_model.best_estimator_.get_params()['n_neighbors'])\n",
        "\n",
        "knn.fit(X_train_val, y_train_val)\n",
        "pred = knn.predict(X_test)\n",
        "final_report['KNN'].append(accuracy_score(pred,y_test))\n",
        "print(f\"Accuracy = {accuracy_score(pred,y_test)}\")\n",
        "final_report['KNN'].append(f1_score(pred,y_test))\n",
        "print(f\"F1 = {f1_score(pred,y_test)}\")\n",
        "final_report['KNN'].append(precision_score(pred,y_test))\n",
        "print(f\"Precision = {precision_score(pred,y_test)}\")\n",
        "final_report['KNN'].append(recall_score(pred,y_test))\n",
        "print(f\"Recall = {recall_score(pred,y_test)}\")\n",
        "plt.figure(figsize=(15,11))\n",
        "confmat(y_test, pred)"
      ],
      "execution_count": 43,
      "outputs": [
        {
          "output_type": "stream",
          "text": [
            "Accuracy = 0.9609756097560975\n",
            "F1 = 0.9452054794520548\n",
            "Precision = 0.9583333333333334\n",
            "Recall = 0.9324324324324325\n"
          ],
          "name": "stdout"
        },
        {
          "output_type": "display_data",
          "data": {
            "image/png": "[encoded data removed]",
            "text/plain": [
              "<Figure size 1080x792 with 2 Axes>"
            ]
          },
          "metadata": {
            "tags": [],
            "needs_background": "light"
          }
        }
      ]
    },
    {
      "cell_type": "markdown",
      "metadata": {
        "id": "s8bw27PfXJg8"
      },
      "source": [
        "Support Vector Machine CLF\n",
        "---"
      ]
    },
    {
      "cell_type": "code",
      "metadata": {
        "id": "1YHboZWDXPi9"
      },
      "source": [
        "if (tune):\n",
        "  #List Hyperparameters that we want to tune.\n",
        "  C_list = [0.001, 0.01, 0.1, 1, 10, 100, 1000]\n",
        "  G_list = [0.0001,0.001,0.005,0.01,0.05,0.1,0.5,1,10,100,1000]\n",
        "  kernel_list = ['rbf', 'sigmoid','linear']\n",
        "  #Convert to dictionary\n",
        "  hyperparameters = dict(C=C_list, gamma=G_list, kernel = kernel_list)\n",
        "  #Create new KNN object\n",
        "  svc_CLF = SVC()\n",
        "  #Use GridSearch\n",
        "  clf = GridSearchCV(svc_CLF, hyperparameters, cv=10, n_jobs=-1, scoring = scoring)\n",
        "  #Fit the model\n",
        "  best_model = clf.fit(x_pca,y)\n",
        "  #Print The value of best Hyperparameters\n",
        "  print('Best C:', best_model.best_estimator_.get_params()['C'])\n",
        "  print('Best gamma:', best_model.best_estimator_.get_params()['gamma'])\n",
        "  print('Best kernel:', best_model.best_estimator_.get_params()['kernel'])"
      ],
      "execution_count": 44,
      "outputs": []
    },
    {
      "cell_type": "code",
      "metadata": {
        "id": "jUJGaMWHTSKd",
        "colab": {
          "base_uri": "https://localhost:8080/"
        },
        "outputId": "c966dab6-9434-4da6-df4c-f965cf783ccb"
      },
      "source": [
        "#To avoid overfitting we use KFold Stratified (stratidication given class imbalance)\n",
        "# Some classification problems can exhibit a large imbalance in the distribution of the target classes: for instance there could be several times more negative samples than positive samples. \n",
        "# In such cases it is recommended to use stratified sampling as implemented in StratifiedKFold and StratifiedShuffleSplit to ensure that relative class frequencies is approximately preserved in each train and validation fold.\n",
        "\n",
        "kf = StratifiedKFold(n_splits=10, shuffle=True)\n",
        "\n",
        "# StratifiedKFold is a variation of k-fold which returns stratified folds: each set contains approximately the same percentage of samples of each target class as the complete set.\n",
        "\n",
        "scores = []\n",
        "for train_index, test_index in kf.split(X_train_val,y_train_val):\n",
        "    #print(\"TRAIN:\", train_index, \"TEST:\", test_index)\n",
        "    X_train, X_val = X_train_val[train_index], X_train_val[test_index]\n",
        "    y_train, y_val = y_train_val.iloc[train_index], y_train_val.iloc[test_index]\n",
        "    \n",
        "    #Classification\n",
        "    clf = SVC(C=10, gamma=0.1, kernel='rbf')\n",
        "    if tune:\n",
        "      clf = SVC(C=best_model.best_estimator_.get_params()['C'], gamma=best_model.best_estimator_.get_params()['gamma'], kernel=best_model.best_estimator_.get_params()['kernel'])\n",
        "    \n",
        "    clf.fit(X_train, y_train)\n",
        "    pred = clf.predict(X_val)\n",
        "    scores.append(f1_score(pred,y_val))\n",
        "print(f\"mean score {np.mean(scores)}\")"
      ],
      "execution_count": 45,
      "outputs": [
        {
          "output_type": "stream",
          "text": [
            "mean score 0.9524411086460421\n"
          ],
          "name": "stdout"
        }
      ]
    },
    {
      "cell_type": "code",
      "metadata": {
        "id": "rrJXrpDcYToS",
        "colab": {
          "base_uri": "https://localhost:8080/",
          "height": 728
        },
        "outputId": "4fc54ac1-591f-4d13-cb2d-7bc38c9f3118"
      },
      "source": [
        "# results on the test set\n",
        "clf = SVC(C=10, gamma=0.1, kernel='rbf')\n",
        "if tune:\n",
        "  clf = SVC(C=best_model.best_estimator_.get_params()['C'], gamma=best_model.best_estimator_.get_params()['gamma'], kernel=best_model.best_estimator_.get_params()['kernel'])\n",
        "\n",
        "clf.fit(X_train_val, y_train_val)\n",
        "pred = clf.predict(X_test)\n",
        "final_report['SVM'].append(accuracy_score(pred,y_test))\n",
        "print(f\"Accuracy = {accuracy_score(pred,y_test)}\")\n",
        "final_report['SVM'].append(f1_score(pred,y_test))\n",
        "print(f\"F1 = {f1_score(pred,y_test)}\")\n",
        "final_report['SVM'].append(precision_score(pred,y_test))\n",
        "print(f\"Precision = {precision_score(pred,y_test)}\")\n",
        "final_report['SVM'].append(recall_score(pred,y_test))\n",
        "print(f\"Recall = {recall_score(pred,y_test)}\")\n",
        "plt.figure(figsize=(15,11))\n",
        "confmat(y_test, pred)"
      ],
      "execution_count": 46,
      "outputs": [
        {
          "output_type": "stream",
          "text": [
            "Accuracy = 0.9609756097560975\n",
            "F1 = 0.9452054794520548\n",
            "Precision = 0.9583333333333334\n",
            "Recall = 0.9324324324324325\n"
          ],
          "name": "stdout"
        },
        {
          "output_type": "display_data",
          "data": {
            "image/png": "[encoded data removed]",
            "text/plain": [
              "<Figure size 1080x792 with 2 Axes>"
            ]
          },
          "metadata": {
            "tags": [],
            "needs_background": "light"
          }
        }
      ]
    },
    {
      "cell_type": "markdown",
      "metadata": {
        "id": "SwZn9dHfnTtf"
      },
      "source": [
        "# Final Report"
      ]
    },
    {
      "cell_type": "code",
      "metadata": {
        "id": "pehABiJdukcJ",
        "colab": {
          "base_uri": "https://localhost:8080/"
        },
        "outputId": "4f900a86-9acb-4f37-b0cd-ec0f25083837"
      },
      "source": [
        "final_report"
      ],
      "execution_count": 47,
      "outputs": [
        {
          "output_type": "execute_result",
          "data": {
            "text/plain": [
              "{'DTree': [0.9658536585365853,\n",
              "  0.9523809523809524,\n",
              "  0.9722222222222222,\n",
              "  0.9333333333333333],\n",
              " 'KNN': [0.9609756097560975,\n",
              "  0.9452054794520548,\n",
              "  0.9583333333333334,\n",
              "  0.9324324324324325],\n",
              " 'LoRe': [0.9609756097560975,\n",
              "  0.9452054794520548,\n",
              "  0.9583333333333334,\n",
              "  0.9324324324324325],\n",
              " 'RF': [0.9707317073170731,\n",
              "  0.9594594594594595,\n",
              "  0.9861111111111112,\n",
              "  0.9342105263157895],\n",
              " 'SVM': [0.9609756097560975,\n",
              "  0.9452054794520548,\n",
              "  0.9583333333333334,\n",
              "  0.9324324324324325]}"
            ]
          },
          "metadata": {
            "tags": []
          },
          "execution_count": 47
        }
      ]
    },
    {
      "cell_type": "code",
      "metadata": {
        "id": "drgpZ-JRnm1A"
      },
      "source": [
        "accuracies = []\r\n",
        "f1s = []\r\n",
        "precisions = []\r\n",
        "recalls = []\r\n",
        "models = []\r\n",
        "for el in final_report.keys():\r\n",
        "  models.append(el)\r\n",
        "  accuracies.append(final_report[el][0])\r\n",
        "  f1s.append(final_report[el][1])\r\n",
        "  precisions.append(final_report[el][2])\r\n",
        "  recalls.append(final_report[el][3])"
      ],
      "execution_count": 48,
      "outputs": []
    },
    {
      "cell_type": "code",
      "metadata": {
        "colab": {
          "base_uri": "https://localhost:8080/",
          "height": 204
        },
        "id": "ZVVDmaT-petz",
        "outputId": "07fda327-db80-43b3-d4b2-b0222de46a50"
      },
      "source": [
        "scores = pd.DataFrame(list(zip(accuracies, f1s, precisions,recalls)), \r\n",
        "               columns =['accuracy', 'f1', 'precision','recall'], index = models)\r\n",
        "scores"
      ],
      "execution_count": 49,
      "outputs": [
        {
          "output_type": "execute_result",
          "data": {
            "text/html": [
              "<div>\n",
              "<style scoped>\n",
              "    .dataframe tbody tr th:only-of-type {\n",
              "        vertical-align: middle;\n",
              "    }\n",
              "\n",
              "    .dataframe tbody tr th {\n",
              "        vertical-align: top;\n",
              "    }\n",
              "\n",
              "    .dataframe thead th {\n",
              "        text-align: right;\n",
              "    }\n",
              "</style>\n",
              "<table border=\"1\" class=\"dataframe\">\n",
              "  <thead>\n",
              "    <tr style=\"text-align: right;\">\n",
              "      <th></th>\n",
              "      <th>accuracy</th>\n",
              "      <th>f1</th>\n",
              "      <th>precision</th>\n",
              "      <th>recall</th>\n",
              "    </tr>\n",
              "  </thead>\n",
              "  <tbody>\n",
              "    <tr>\n",
              "      <th>LoRe</th>\n",
              "      <td>0.960976</td>\n",
              "      <td>0.945205</td>\n",
              "      <td>0.958333</td>\n",
              "      <td>0.932432</td>\n",
              "    </tr>\n",
              "    <tr>\n",
              "      <th>DTree</th>\n",
              "      <td>0.965854</td>\n",
              "      <td>0.952381</td>\n",
              "      <td>0.972222</td>\n",
              "      <td>0.933333</td>\n",
              "    </tr>\n",
              "    <tr>\n",
              "      <th>RF</th>\n",
              "      <td>0.970732</td>\n",
              "      <td>0.959459</td>\n",
              "      <td>0.986111</td>\n",
              "      <td>0.934211</td>\n",
              "    </tr>\n",
              "    <tr>\n",
              "      <th>KNN</th>\n",
              "      <td>0.960976</td>\n",
              "      <td>0.945205</td>\n",
              "      <td>0.958333</td>\n",
              "      <td>0.932432</td>\n",
              "    </tr>\n",
              "    <tr>\n",
              "      <th>SVM</th>\n",
              "      <td>0.960976</td>\n",
              "      <td>0.945205</td>\n",
              "      <td>0.958333</td>\n",
              "      <td>0.932432</td>\n",
              "    </tr>\n",
              "  </tbody>\n",
              "</table>\n",
              "</div>"
            ],
            "text/plain": [
              "       accuracy        f1  precision    recall\n",
              "LoRe   0.960976  0.945205   0.958333  0.932432\n",
              "DTree  0.965854  0.952381   0.972222  0.933333\n",
              "RF     0.970732  0.959459   0.986111  0.934211\n",
              "KNN    0.960976  0.945205   0.958333  0.932432\n",
              "SVM    0.960976  0.945205   0.958333  0.932432"
            ]
          },
          "metadata": {
            "tags": []
          },
          "execution_count": 49
        }
      ]
    },
    {
      "cell_type": "code",
      "metadata": {
        "colab": {
          "base_uri": "https://localhost:8080/",
          "height": 1000
        },
        "id": "dylkQqvdp8_H",
        "outputId": "ad0208ec-bf0c-4a3f-b279-79cccb9d1d8e"
      },
      "source": [
        "for i in ['accuracy', 'f1', 'precision','recall']:\r\n",
        "  ax = sns.barplot(x=models,y=scores[i],palette='colorblind')\r\n",
        "  for p in ax.patches:\r\n",
        "    ax.annotate(\"{:.4f}\".format(p.get_height(), 'f'), (p.get_x() + p.get_width() / 2., p.get_height()), ha='center', va='center', xytext=(0, 10), textcoords='offset points')\r\n",
        "  plt.show()"
      ],
      "execution_count": 50,
      "outputs": [
        {
          "output_type": "display_data",
          "data": {
            "image/png": "[encoded data removed]",
            "text/plain": [
              "<Figure size 432x288 with 1 Axes>"
            ]
          },
          "metadata": {
            "tags": [],
            "needs_background": "light"
          }
        },
        {
          "output_type": "display_data",
          "data": {
            "image/png": "[encoded data removed]",
            "text/plain": [
              "<Figure size 432x288 with 1 Axes>"
            ]
          },
          "metadata": {
            "tags": [],
            "needs_background": "light"
          }
        },
        {
          "output_type": "display_data",
          "data": {
            "image/png": "[encoded data removed]",
            "text/plain": [
              "<Figure size 432x288 with 1 Axes>"
            ]
          },
          "metadata": {
            "tags": [],
            "needs_background": "light"
          }
        },
        {
          "output_type": "display_data",
          "data": {
            "image/png": "[encoded data removed]",
            "text/plain": [
              "<Figure size 432x288 with 1 Axes>"
            ]
          },
          "metadata": {
            "tags": [],
            "needs_background": "light"
          }
        }
      ]
    }
  ]
}