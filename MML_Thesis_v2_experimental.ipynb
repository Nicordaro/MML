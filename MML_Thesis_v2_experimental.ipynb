{
  "nbformat": 4,
  "nbformat_minor": 0,
  "metadata": {
    "colab": {
      "name": "MML_Thesis.ipynb",
      "provenance": [],
      "toc_visible": true,
      "authorship_tag": "ABX9TyO5pzxgBxBZVUdPI31WHRNC",
      "include_colab_link": true
    },
    "kernelspec": {
      "name": "python3",
      "display_name": "Python 3"
    }
  },
  "cells": [
    {
      "cell_type": "markdown",
      "metadata": {
        "id": "view-in-github",
        "colab_type": "text"
      },
      "source": [
        "<a href=\"https://colab.research.google.com/github/Nicordaro/MML/blob/main/MML_Thesis_v2_experimental.ipynb\" target=\"_parent\"><img src=\"https://colab.research.google.com/assets/colab-badge.svg\" alt=\"Open In Colab\"/></a>"
      ]
    },
    {
      "cell_type": "markdown",
      "metadata": {
        "id": "3kdinOfuCREV"
      },
      "source": [
        "###Mathematics in Machine Learning\n",
        "#Tesina\n",
        "Nicolò Cordaro s272145\n",
        "\n",
        "---\n",
        "\n"
      ]
    },
    {
      "cell_type": "markdown",
      "metadata": {
        "id": "5I-ba2j5HI0h"
      },
      "source": [
        "###Organize imports and dataset definition"
      ]
    },
    {
      "cell_type": "code",
      "metadata": {
        "id": "m4vFQIyHGzyi",
        "colab": {
          "base_uri": "https://localhost:8080/"
        },
        "outputId": "97b3dbc4-f42b-4220-fb02-e1aee21aa8b0"
      },
      "source": [
        "import os\n",
        "import numpy as np\n",
        "import sklearn\n",
        "import matplotlib.pyplot as plt\n",
        "import pandas as pd\n",
        "import seaborn as sns\n",
        "import shutil\n",
        "from sklearn.model_selection import StratifiedKFold\n",
        "from imblearn.over_sampling import SMOTE\n",
        "from sklearn.tree import DecisionTreeClassifier\n",
        "from sklearn.preprocessing import MinMaxScaler\n",
        "from sklearn.metrics import f1_score\n",
        "from sklearn.metrics import accuracy_score\n",
        "from sklearn.metrics import recall_score\n",
        "from sklearn.metrics import precision_score\n",
        "from sklearn.metrics import confusion_matrix\n",
        "from sklearn.linear_model import LogisticRegression\n",
        "from sklearn.ensemble import RandomForestClassifier\n",
        "from sklearn import tree\n",
        "from sklearn.neighbors import KNeighborsClassifier\n",
        "from sklearn.model_selection import train_test_split\n",
        "from sklearn.metrics import classification_report, make_scorer\n",
        "from sklearn.model_selection import train_test_split\n",
        "from sklearn.metrics import roc_auc_score\n",
        "from sklearn.model_selection import GridSearchCV\n",
        "from sklearn.svm import SVC\n",
        "\n",
        "scoring = make_scorer(f1_score)\n",
        "\n",
        "import warnings\n",
        "warnings.filterwarnings(\"ignore\")\n",
        "\n",
        "# import warnings filter\n",
        "from warnings import simplefilter\n",
        "# ignore all future warnings\n",
        "simplefilter(action='ignore', category=FutureWarning)\n",
        "# import warnings filter\n",
        "from warnings import simplefilter\n",
        "# ignore all future warnings\n",
        "simplefilter(action='ignore', category=FutureWarning)\n",
        "\n",
        "SEED = 42\n",
        "\n",
        "def confmat(y_test,pred):\n",
        "    cf_matrix = confusion_matrix(y_test, pred)\n",
        "    ax = sns.heatmap(cf_matrix, annot=True,  fmt='g', cmap='coolwarm', xticklabels=[\"benign\",\"malign\"], yticklabels=[\"benign\",\"malign\"]) #notation: \"annot\" not \"annote\"\n",
        "    bottom, top = ax.get_ylim()\n",
        "    ax.set_ylim(bottom + 0.5, top - 0.5)\n",
        "    ax.set(xlabel='True Label', ylabel='Predicted Label')"
      ],
      "execution_count": 1,
      "outputs": [
        {
          "output_type": "stream",
          "text": [
            "/usr/local/lib/python3.6/dist-packages/sklearn/externals/six.py:31: FutureWarning: The module is deprecated in version 0.21 and will be removed in version 0.23 since we've dropped support for Python 2.7. Please rely on the official version of six (https://pypi.org/project/six/).\n",
            "  \"(https://pypi.org/project/six/).\", FutureWarning)\n",
            "/usr/local/lib/python3.6/dist-packages/sklearn/utils/deprecation.py:144: FutureWarning: The sklearn.neighbors.base module is  deprecated in version 0.22 and will be removed in version 0.24. The corresponding classes / functions should instead be imported from sklearn.neighbors. Anything that cannot be imported from sklearn.neighbors is now part of the private API.\n",
            "  warnings.warn(message, FutureWarning)\n"
          ],
          "name": "stderr"
        }
      ]
    },
    {
      "cell_type": "code",
      "metadata": {
        "id": "BLgakeS9CpN1",
        "colab": {
          "base_uri": "https://localhost:8080/"
        },
        "outputId": "1872de75-af17-4bcf-e2cd-cae24bb3c0be"
      },
      "source": [
        "# Clone github repository with dataset\n",
        "# deleting if already present(Only for development purposes, colab limitations)\n",
        "!rm -rf MML\n",
        "!rm -rf dataset\n",
        "if not os.path.isdir('./MML'):\n",
        "  !git clone https://github.com/Nicordaro/MML\n",
        "    \n",
        "source_dir = './MML/dataset'\n",
        "target_dir = './dataset'\n",
        "    \n",
        "file_names = os.listdir(source_dir)\n",
        "os.mkdir(target_dir)\n",
        "for file_name in file_names:\n",
        "  print(file_name)\n",
        "  shutil.move(source_dir+\"/\"+file_name, target_dir+\"/\"+file_name)"
      ],
      "execution_count": 2,
      "outputs": [
        {
          "output_type": "stream",
          "text": [
            "Cloning into 'MML'...\n",
            "remote: Enumerating objects: 47, done.\u001b[K\n",
            "remote: Counting objects: 100% (47/47), done.\u001b[K\n",
            "remote: Compressing objects: 100% (46/46), done.\u001b[K\n",
            "remote: Total 47 (delta 10), reused 0 (delta 0), pack-reused 0\u001b[K\n",
            "Unpacking objects: 100% (47/47), done.\n",
            "breast-cancer-wisconsin.data\n",
            "wdbc.data\n",
            "breast-cancer-wisconsin.names\n"
          ],
          "name": "stdout"
        }
      ]
    },
    {
      "cell_type": "code",
      "metadata": {
        "id": "xRhstnsZLnjl",
        "cellView": "both"
      },
      "source": [
        "names = {\"sampcode\":\"Sample code number\", \n",
        "\"clump\": \"Clump Thickness\", \n",
        "\"uni_size\":\"Uniformity of Cell Size\", \n",
        "\"uni_shape\":\"Uniformity of Cell Shape\", \n",
        "\"adhesion\":\"Marginal Adhesion\", \n",
        "\"epith_size\":\"Single Epithelial Cell Size\", \n",
        "\"nuclei\":\"Bare Nuclei\", \n",
        "\"chromatin\":\"Bland Chromatin\", \n",
        "\"nucleoli\":\"Normal Nucleoli\", \n",
        "\"mitoses\":\"Mitoses\", \n",
        "\"class\":\"Class\"}\n"
      ],
      "execution_count": 3,
      "outputs": []
    },
    {
      "cell_type": "code",
      "metadata": {
        "id": "1VMoPHTWn_9R",
        "colab": {
          "base_uri": "https://localhost:8080/"
        },
        "outputId": "b2e84594-9e35-4923-a176-af19e6fd08b1"
      },
      "source": [
        "dataset_DF = pd.read_csv(target_dir+\"/breast-cancer-wisconsin.data\", names=list(names.keys()))\n",
        "dataset_DF.iloc[:, 10] = dataset_DF.iloc[:, 10].replace(2, \"benign\").replace(4, \"malign\")\n",
        "dataset_DF.info()"
      ],
      "execution_count": 4,
      "outputs": [
        {
          "output_type": "stream",
          "text": [
            "<class 'pandas.core.frame.DataFrame'>\n",
            "RangeIndex: 699 entries, 0 to 698\n",
            "Data columns (total 11 columns):\n",
            " #   Column      Non-Null Count  Dtype \n",
            "---  ------      --------------  ----- \n",
            " 0   sampcode    699 non-null    int64 \n",
            " 1   clump       699 non-null    int64 \n",
            " 2   uni_size    699 non-null    int64 \n",
            " 3   uni_shape   699 non-null    int64 \n",
            " 4   adhesion    699 non-null    int64 \n",
            " 5   epith_size  699 non-null    int64 \n",
            " 6   nuclei      699 non-null    object\n",
            " 7   chromatin   699 non-null    int64 \n",
            " 8   nucleoli    699 non-null    int64 \n",
            " 9   mitoses     699 non-null    int64 \n",
            " 10  class       699 non-null    object\n",
            "dtypes: int64(9), object(2)\n",
            "memory usage: 60.2+ KB\n"
          ],
          "name": "stdout"
        }
      ]
    },
    {
      "cell_type": "markdown",
      "metadata": {
        "id": "SaLxfGuxBguA"
      },
      "source": [
        "# Inspection & Preprocessing"
      ]
    },
    {
      "cell_type": "code",
      "metadata": {
        "id": "QFgiAPjPnvS9",
        "colab": {
          "base_uri": "https://localhost:8080/"
        },
        "outputId": "0ea0a055-7a22-40c2-f644-78c95ce8485d"
      },
      "source": [
        "# Non-numerical values are present in the Bare-nuclei feature\n",
        "dataset_DF.isin(['?']).any()"
      ],
      "execution_count": 5,
      "outputs": [
        {
          "output_type": "execute_result",
          "data": {
            "text/plain": [
              "sampcode      False\n",
              "clump         False\n",
              "uni_size      False\n",
              "uni_shape     False\n",
              "adhesion      False\n",
              "epith_size    False\n",
              "nuclei         True\n",
              "chromatin     False\n",
              "nucleoli      False\n",
              "mitoses       False\n",
              "class         False\n",
              "dtype: bool"
            ]
          },
          "metadata": {
            "tags": []
          },
          "execution_count": 5
        }
      ]
    },
    {
      "cell_type": "code",
      "metadata": {
        "id": "5bTsBHsTn0dn"
      },
      "source": [
        "# searching non-numeric (\"?\") occurrances in the dataset\n",
        "dataset_DF = dataset_DF.drop(dataset_DF[dataset_DF[\"nuclei\"]==\"?\"].index)\n",
        "# conversion to numeric the object column\n",
        "dataset_DF.iloc[:, 6] = pd.to_numeric(dataset_DF.iloc[:, 6])"
      ],
      "execution_count": 6,
      "outputs": []
    },
    {
      "cell_type": "code",
      "metadata": {
        "id": "FiZcYokTK0nH",
        "colab": {
          "base_uri": "https://localhost:8080/",
          "height": 142
        },
        "outputId": "4af0cf8f-39a8-44a3-c18d-1305e08c33dc"
      },
      "source": [
        "dataset_DF.head(3)"
      ],
      "execution_count": 7,
      "outputs": [
        {
          "output_type": "execute_result",
          "data": {
            "text/html": [
              "<div>\n",
              "<style scoped>\n",
              "    .dataframe tbody tr th:only-of-type {\n",
              "        vertical-align: middle;\n",
              "    }\n",
              "\n",
              "    .dataframe tbody tr th {\n",
              "        vertical-align: top;\n",
              "    }\n",
              "\n",
              "    .dataframe thead th {\n",
              "        text-align: right;\n",
              "    }\n",
              "</style>\n",
              "<table border=\"1\" class=\"dataframe\">\n",
              "  <thead>\n",
              "    <tr style=\"text-align: right;\">\n",
              "      <th></th>\n",
              "      <th>sampcode</th>\n",
              "      <th>clump</th>\n",
              "      <th>uni_size</th>\n",
              "      <th>uni_shape</th>\n",
              "      <th>adhesion</th>\n",
              "      <th>epith_size</th>\n",
              "      <th>nuclei</th>\n",
              "      <th>chromatin</th>\n",
              "      <th>nucleoli</th>\n",
              "      <th>mitoses</th>\n",
              "      <th>class</th>\n",
              "    </tr>\n",
              "  </thead>\n",
              "  <tbody>\n",
              "    <tr>\n",
              "      <th>0</th>\n",
              "      <td>1000025</td>\n",
              "      <td>5</td>\n",
              "      <td>1</td>\n",
              "      <td>1</td>\n",
              "      <td>1</td>\n",
              "      <td>2</td>\n",
              "      <td>1</td>\n",
              "      <td>3</td>\n",
              "      <td>1</td>\n",
              "      <td>1</td>\n",
              "      <td>benign</td>\n",
              "    </tr>\n",
              "    <tr>\n",
              "      <th>1</th>\n",
              "      <td>1002945</td>\n",
              "      <td>5</td>\n",
              "      <td>4</td>\n",
              "      <td>4</td>\n",
              "      <td>5</td>\n",
              "      <td>7</td>\n",
              "      <td>10</td>\n",
              "      <td>3</td>\n",
              "      <td>2</td>\n",
              "      <td>1</td>\n",
              "      <td>benign</td>\n",
              "    </tr>\n",
              "    <tr>\n",
              "      <th>2</th>\n",
              "      <td>1015425</td>\n",
              "      <td>3</td>\n",
              "      <td>1</td>\n",
              "      <td>1</td>\n",
              "      <td>1</td>\n",
              "      <td>2</td>\n",
              "      <td>2</td>\n",
              "      <td>3</td>\n",
              "      <td>1</td>\n",
              "      <td>1</td>\n",
              "      <td>benign</td>\n",
              "    </tr>\n",
              "  </tbody>\n",
              "</table>\n",
              "</div>"
            ],
            "text/plain": [
              "   sampcode  clump  uni_size  uni_shape  ...  chromatin  nucleoli  mitoses   class\n",
              "0   1000025      5         1          1  ...          3         1        1  benign\n",
              "1   1002945      5         4          4  ...          3         2        1  benign\n",
              "2   1015425      3         1          1  ...          3         1        1  benign\n",
              "\n",
              "[3 rows x 11 columns]"
            ]
          },
          "metadata": {
            "tags": []
          },
          "execution_count": 7
        }
      ]
    },
    {
      "cell_type": "code",
      "metadata": {
        "id": "Y2qLkkKmQaAg",
        "colab": {
          "base_uri": "https://localhost:8080/",
          "height": 297
        },
        "outputId": "e9e42c5f-a423-49c3-ddc3-e8edd267b0fb"
      },
      "source": [
        "#Rimozione della feature sampcode, non utile alla fine dell'analisi che si vuole portare avanti\n",
        "dataset_DF = dataset_DF.drop(\"sampcode\", axis=1)\n",
        "dataset_DF.describe()"
      ],
      "execution_count": 8,
      "outputs": [
        {
          "output_type": "execute_result",
          "data": {
            "text/html": [
              "<div>\n",
              "<style scoped>\n",
              "    .dataframe tbody tr th:only-of-type {\n",
              "        vertical-align: middle;\n",
              "    }\n",
              "\n",
              "    .dataframe tbody tr th {\n",
              "        vertical-align: top;\n",
              "    }\n",
              "\n",
              "    .dataframe thead th {\n",
              "        text-align: right;\n",
              "    }\n",
              "</style>\n",
              "<table border=\"1\" class=\"dataframe\">\n",
              "  <thead>\n",
              "    <tr style=\"text-align: right;\">\n",
              "      <th></th>\n",
              "      <th>clump</th>\n",
              "      <th>uni_size</th>\n",
              "      <th>uni_shape</th>\n",
              "      <th>adhesion</th>\n",
              "      <th>epith_size</th>\n",
              "      <th>nuclei</th>\n",
              "      <th>chromatin</th>\n",
              "      <th>nucleoli</th>\n",
              "      <th>mitoses</th>\n",
              "    </tr>\n",
              "  </thead>\n",
              "  <tbody>\n",
              "    <tr>\n",
              "      <th>count</th>\n",
              "      <td>683.000000</td>\n",
              "      <td>683.000000</td>\n",
              "      <td>683.000000</td>\n",
              "      <td>683.000000</td>\n",
              "      <td>683.000000</td>\n",
              "      <td>683.000000</td>\n",
              "      <td>683.000000</td>\n",
              "      <td>683.000000</td>\n",
              "      <td>683.000000</td>\n",
              "    </tr>\n",
              "    <tr>\n",
              "      <th>mean</th>\n",
              "      <td>4.442167</td>\n",
              "      <td>3.150805</td>\n",
              "      <td>3.215227</td>\n",
              "      <td>2.830161</td>\n",
              "      <td>3.234261</td>\n",
              "      <td>3.544656</td>\n",
              "      <td>3.445095</td>\n",
              "      <td>2.869693</td>\n",
              "      <td>1.603221</td>\n",
              "    </tr>\n",
              "    <tr>\n",
              "      <th>std</th>\n",
              "      <td>2.820761</td>\n",
              "      <td>3.065145</td>\n",
              "      <td>2.988581</td>\n",
              "      <td>2.864562</td>\n",
              "      <td>2.223085</td>\n",
              "      <td>3.643857</td>\n",
              "      <td>2.449697</td>\n",
              "      <td>3.052666</td>\n",
              "      <td>1.732674</td>\n",
              "    </tr>\n",
              "    <tr>\n",
              "      <th>min</th>\n",
              "      <td>1.000000</td>\n",
              "      <td>1.000000</td>\n",
              "      <td>1.000000</td>\n",
              "      <td>1.000000</td>\n",
              "      <td>1.000000</td>\n",
              "      <td>1.000000</td>\n",
              "      <td>1.000000</td>\n",
              "      <td>1.000000</td>\n",
              "      <td>1.000000</td>\n",
              "    </tr>\n",
              "    <tr>\n",
              "      <th>25%</th>\n",
              "      <td>2.000000</td>\n",
              "      <td>1.000000</td>\n",
              "      <td>1.000000</td>\n",
              "      <td>1.000000</td>\n",
              "      <td>2.000000</td>\n",
              "      <td>1.000000</td>\n",
              "      <td>2.000000</td>\n",
              "      <td>1.000000</td>\n",
              "      <td>1.000000</td>\n",
              "    </tr>\n",
              "    <tr>\n",
              "      <th>50%</th>\n",
              "      <td>4.000000</td>\n",
              "      <td>1.000000</td>\n",
              "      <td>1.000000</td>\n",
              "      <td>1.000000</td>\n",
              "      <td>2.000000</td>\n",
              "      <td>1.000000</td>\n",
              "      <td>3.000000</td>\n",
              "      <td>1.000000</td>\n",
              "      <td>1.000000</td>\n",
              "    </tr>\n",
              "    <tr>\n",
              "      <th>75%</th>\n",
              "      <td>6.000000</td>\n",
              "      <td>5.000000</td>\n",
              "      <td>5.000000</td>\n",
              "      <td>4.000000</td>\n",
              "      <td>4.000000</td>\n",
              "      <td>6.000000</td>\n",
              "      <td>5.000000</td>\n",
              "      <td>4.000000</td>\n",
              "      <td>1.000000</td>\n",
              "    </tr>\n",
              "    <tr>\n",
              "      <th>max</th>\n",
              "      <td>10.000000</td>\n",
              "      <td>10.000000</td>\n",
              "      <td>10.000000</td>\n",
              "      <td>10.000000</td>\n",
              "      <td>10.000000</td>\n",
              "      <td>10.000000</td>\n",
              "      <td>10.000000</td>\n",
              "      <td>10.000000</td>\n",
              "      <td>10.000000</td>\n",
              "    </tr>\n",
              "  </tbody>\n",
              "</table>\n",
              "</div>"
            ],
            "text/plain": [
              "            clump    uni_size   uni_shape  ...   chromatin    nucleoli     mitoses\n",
              "count  683.000000  683.000000  683.000000  ...  683.000000  683.000000  683.000000\n",
              "mean     4.442167    3.150805    3.215227  ...    3.445095    2.869693    1.603221\n",
              "std      2.820761    3.065145    2.988581  ...    2.449697    3.052666    1.732674\n",
              "min      1.000000    1.000000    1.000000  ...    1.000000    1.000000    1.000000\n",
              "25%      2.000000    1.000000    1.000000  ...    2.000000    1.000000    1.000000\n",
              "50%      4.000000    1.000000    1.000000  ...    3.000000    1.000000    1.000000\n",
              "75%      6.000000    5.000000    5.000000  ...    5.000000    4.000000    1.000000\n",
              "max     10.000000   10.000000   10.000000  ...   10.000000   10.000000   10.000000\n",
              "\n",
              "[8 rows x 9 columns]"
            ]
          },
          "metadata": {
            "tags": []
          },
          "execution_count": 8
        }
      ]
    },
    {
      "cell_type": "code",
      "metadata": {
        "id": "ZTI1G2FoMfVh",
        "colab": {
          "base_uri": "https://localhost:8080/",
          "height": 297
        },
        "outputId": "da0c172d-eb99-4376-e5b5-6b1b61d762dd"
      },
      "source": [
        "# Description of only benign cancer occurances in the dataset\n",
        "dataset_DF.loc[dataset_DF['class'] == \"benign\"].describe()"
      ],
      "execution_count": 9,
      "outputs": [
        {
          "output_type": "execute_result",
          "data": {
            "text/html": [
              "<div>\n",
              "<style scoped>\n",
              "    .dataframe tbody tr th:only-of-type {\n",
              "        vertical-align: middle;\n",
              "    }\n",
              "\n",
              "    .dataframe tbody tr th {\n",
              "        vertical-align: top;\n",
              "    }\n",
              "\n",
              "    .dataframe thead th {\n",
              "        text-align: right;\n",
              "    }\n",
              "</style>\n",
              "<table border=\"1\" class=\"dataframe\">\n",
              "  <thead>\n",
              "    <tr style=\"text-align: right;\">\n",
              "      <th></th>\n",
              "      <th>clump</th>\n",
              "      <th>uni_size</th>\n",
              "      <th>uni_shape</th>\n",
              "      <th>adhesion</th>\n",
              "      <th>epith_size</th>\n",
              "      <th>nuclei</th>\n",
              "      <th>chromatin</th>\n",
              "      <th>nucleoli</th>\n",
              "      <th>mitoses</th>\n",
              "    </tr>\n",
              "  </thead>\n",
              "  <tbody>\n",
              "    <tr>\n",
              "      <th>count</th>\n",
              "      <td>444.000000</td>\n",
              "      <td>444.000000</td>\n",
              "      <td>444.000000</td>\n",
              "      <td>444.000000</td>\n",
              "      <td>444.000000</td>\n",
              "      <td>444.000000</td>\n",
              "      <td>444.000000</td>\n",
              "      <td>444.000000</td>\n",
              "      <td>444.000000</td>\n",
              "    </tr>\n",
              "    <tr>\n",
              "      <th>mean</th>\n",
              "      <td>2.963964</td>\n",
              "      <td>1.306306</td>\n",
              "      <td>1.414414</td>\n",
              "      <td>1.346847</td>\n",
              "      <td>2.108108</td>\n",
              "      <td>1.346847</td>\n",
              "      <td>2.083333</td>\n",
              "      <td>1.261261</td>\n",
              "      <td>1.065315</td>\n",
              "    </tr>\n",
              "    <tr>\n",
              "      <th>std</th>\n",
              "      <td>1.672661</td>\n",
              "      <td>0.855657</td>\n",
              "      <td>0.957031</td>\n",
              "      <td>0.917088</td>\n",
              "      <td>0.877112</td>\n",
              "      <td>1.177848</td>\n",
              "      <td>1.062299</td>\n",
              "      <td>0.954606</td>\n",
              "      <td>0.509738</td>\n",
              "    </tr>\n",
              "    <tr>\n",
              "      <th>min</th>\n",
              "      <td>1.000000</td>\n",
              "      <td>1.000000</td>\n",
              "      <td>1.000000</td>\n",
              "      <td>1.000000</td>\n",
              "      <td>1.000000</td>\n",
              "      <td>1.000000</td>\n",
              "      <td>1.000000</td>\n",
              "      <td>1.000000</td>\n",
              "      <td>1.000000</td>\n",
              "    </tr>\n",
              "    <tr>\n",
              "      <th>25%</th>\n",
              "      <td>1.000000</td>\n",
              "      <td>1.000000</td>\n",
              "      <td>1.000000</td>\n",
              "      <td>1.000000</td>\n",
              "      <td>2.000000</td>\n",
              "      <td>1.000000</td>\n",
              "      <td>1.000000</td>\n",
              "      <td>1.000000</td>\n",
              "      <td>1.000000</td>\n",
              "    </tr>\n",
              "    <tr>\n",
              "      <th>50%</th>\n",
              "      <td>3.000000</td>\n",
              "      <td>1.000000</td>\n",
              "      <td>1.000000</td>\n",
              "      <td>1.000000</td>\n",
              "      <td>2.000000</td>\n",
              "      <td>1.000000</td>\n",
              "      <td>2.000000</td>\n",
              "      <td>1.000000</td>\n",
              "      <td>1.000000</td>\n",
              "    </tr>\n",
              "    <tr>\n",
              "      <th>75%</th>\n",
              "      <td>4.000000</td>\n",
              "      <td>1.000000</td>\n",
              "      <td>1.000000</td>\n",
              "      <td>1.000000</td>\n",
              "      <td>2.000000</td>\n",
              "      <td>1.000000</td>\n",
              "      <td>3.000000</td>\n",
              "      <td>1.000000</td>\n",
              "      <td>1.000000</td>\n",
              "    </tr>\n",
              "    <tr>\n",
              "      <th>max</th>\n",
              "      <td>8.000000</td>\n",
              "      <td>9.000000</td>\n",
              "      <td>8.000000</td>\n",
              "      <td>10.000000</td>\n",
              "      <td>10.000000</td>\n",
              "      <td>10.000000</td>\n",
              "      <td>7.000000</td>\n",
              "      <td>8.000000</td>\n",
              "      <td>8.000000</td>\n",
              "    </tr>\n",
              "  </tbody>\n",
              "</table>\n",
              "</div>"
            ],
            "text/plain": [
              "            clump    uni_size   uni_shape  ...   chromatin    nucleoli     mitoses\n",
              "count  444.000000  444.000000  444.000000  ...  444.000000  444.000000  444.000000\n",
              "mean     2.963964    1.306306    1.414414  ...    2.083333    1.261261    1.065315\n",
              "std      1.672661    0.855657    0.957031  ...    1.062299    0.954606    0.509738\n",
              "min      1.000000    1.000000    1.000000  ...    1.000000    1.000000    1.000000\n",
              "25%      1.000000    1.000000    1.000000  ...    1.000000    1.000000    1.000000\n",
              "50%      3.000000    1.000000    1.000000  ...    2.000000    1.000000    1.000000\n",
              "75%      4.000000    1.000000    1.000000  ...    3.000000    1.000000    1.000000\n",
              "max      8.000000    9.000000    8.000000  ...    7.000000    8.000000    8.000000\n",
              "\n",
              "[8 rows x 9 columns]"
            ]
          },
          "metadata": {
            "tags": []
          },
          "execution_count": 9
        }
      ]
    },
    {
      "cell_type": "code",
      "metadata": {
        "id": "LIM-s_rPOFP4",
        "colab": {
          "base_uri": "https://localhost:8080/",
          "height": 297
        },
        "outputId": "f4868171-ed3b-4f76-c4b5-4953972b6ecd"
      },
      "source": [
        "# Description of only malign cancer occurances in the dataset\n",
        "dataset_DF.loc[dataset_DF['class'] == \"malign\"].describe()"
      ],
      "execution_count": 10,
      "outputs": [
        {
          "output_type": "execute_result",
          "data": {
            "text/html": [
              "<div>\n",
              "<style scoped>\n",
              "    .dataframe tbody tr th:only-of-type {\n",
              "        vertical-align: middle;\n",
              "    }\n",
              "\n",
              "    .dataframe tbody tr th {\n",
              "        vertical-align: top;\n",
              "    }\n",
              "\n",
              "    .dataframe thead th {\n",
              "        text-align: right;\n",
              "    }\n",
              "</style>\n",
              "<table border=\"1\" class=\"dataframe\">\n",
              "  <thead>\n",
              "    <tr style=\"text-align: right;\">\n",
              "      <th></th>\n",
              "      <th>clump</th>\n",
              "      <th>uni_size</th>\n",
              "      <th>uni_shape</th>\n",
              "      <th>adhesion</th>\n",
              "      <th>epith_size</th>\n",
              "      <th>nuclei</th>\n",
              "      <th>chromatin</th>\n",
              "      <th>nucleoli</th>\n",
              "      <th>mitoses</th>\n",
              "    </tr>\n",
              "  </thead>\n",
              "  <tbody>\n",
              "    <tr>\n",
              "      <th>count</th>\n",
              "      <td>239.000000</td>\n",
              "      <td>239.000000</td>\n",
              "      <td>239.000000</td>\n",
              "      <td>239.000000</td>\n",
              "      <td>239.000000</td>\n",
              "      <td>239.000000</td>\n",
              "      <td>239.000000</td>\n",
              "      <td>239.000000</td>\n",
              "      <td>239.000000</td>\n",
              "    </tr>\n",
              "    <tr>\n",
              "      <th>mean</th>\n",
              "      <td>7.188285</td>\n",
              "      <td>6.577406</td>\n",
              "      <td>6.560669</td>\n",
              "      <td>5.585774</td>\n",
              "      <td>5.326360</td>\n",
              "      <td>7.627615</td>\n",
              "      <td>5.974895</td>\n",
              "      <td>5.857741</td>\n",
              "      <td>2.602510</td>\n",
              "    </tr>\n",
              "    <tr>\n",
              "      <th>std</th>\n",
              "      <td>2.437907</td>\n",
              "      <td>2.724244</td>\n",
              "      <td>2.569104</td>\n",
              "      <td>3.196631</td>\n",
              "      <td>2.443087</td>\n",
              "      <td>3.116679</td>\n",
              "      <td>2.282422</td>\n",
              "      <td>3.348876</td>\n",
              "      <td>2.564495</td>\n",
              "    </tr>\n",
              "    <tr>\n",
              "      <th>min</th>\n",
              "      <td>1.000000</td>\n",
              "      <td>1.000000</td>\n",
              "      <td>1.000000</td>\n",
              "      <td>1.000000</td>\n",
              "      <td>1.000000</td>\n",
              "      <td>1.000000</td>\n",
              "      <td>1.000000</td>\n",
              "      <td>1.000000</td>\n",
              "      <td>1.000000</td>\n",
              "    </tr>\n",
              "    <tr>\n",
              "      <th>25%</th>\n",
              "      <td>5.000000</td>\n",
              "      <td>4.000000</td>\n",
              "      <td>4.000000</td>\n",
              "      <td>3.000000</td>\n",
              "      <td>3.000000</td>\n",
              "      <td>5.000000</td>\n",
              "      <td>4.000000</td>\n",
              "      <td>3.000000</td>\n",
              "      <td>1.000000</td>\n",
              "    </tr>\n",
              "    <tr>\n",
              "      <th>50%</th>\n",
              "      <td>8.000000</td>\n",
              "      <td>6.000000</td>\n",
              "      <td>6.000000</td>\n",
              "      <td>5.000000</td>\n",
              "      <td>5.000000</td>\n",
              "      <td>10.000000</td>\n",
              "      <td>7.000000</td>\n",
              "      <td>6.000000</td>\n",
              "      <td>1.000000</td>\n",
              "    </tr>\n",
              "    <tr>\n",
              "      <th>75%</th>\n",
              "      <td>10.000000</td>\n",
              "      <td>10.000000</td>\n",
              "      <td>9.000000</td>\n",
              "      <td>8.000000</td>\n",
              "      <td>6.500000</td>\n",
              "      <td>10.000000</td>\n",
              "      <td>7.000000</td>\n",
              "      <td>9.500000</td>\n",
              "      <td>3.000000</td>\n",
              "    </tr>\n",
              "    <tr>\n",
              "      <th>max</th>\n",
              "      <td>10.000000</td>\n",
              "      <td>10.000000</td>\n",
              "      <td>10.000000</td>\n",
              "      <td>10.000000</td>\n",
              "      <td>10.000000</td>\n",
              "      <td>10.000000</td>\n",
              "      <td>10.000000</td>\n",
              "      <td>10.000000</td>\n",
              "      <td>10.000000</td>\n",
              "    </tr>\n",
              "  </tbody>\n",
              "</table>\n",
              "</div>"
            ],
            "text/plain": [
              "            clump    uni_size   uni_shape  ...   chromatin    nucleoli     mitoses\n",
              "count  239.000000  239.000000  239.000000  ...  239.000000  239.000000  239.000000\n",
              "mean     7.188285    6.577406    6.560669  ...    5.974895    5.857741    2.602510\n",
              "std      2.437907    2.724244    2.569104  ...    2.282422    3.348876    2.564495\n",
              "min      1.000000    1.000000    1.000000  ...    1.000000    1.000000    1.000000\n",
              "25%      5.000000    4.000000    4.000000  ...    4.000000    3.000000    1.000000\n",
              "50%      8.000000    6.000000    6.000000  ...    7.000000    6.000000    1.000000\n",
              "75%     10.000000   10.000000    9.000000  ...    7.000000    9.500000    3.000000\n",
              "max     10.000000   10.000000   10.000000  ...   10.000000   10.000000   10.000000\n",
              "\n",
              "[8 rows x 9 columns]"
            ]
          },
          "metadata": {
            "tags": []
          },
          "execution_count": 10
        }
      ]
    },
    {
      "cell_type": "code",
      "metadata": {
        "id": "hlSxNJlTIPHw",
        "colab": {
          "base_uri": "https://localhost:8080/",
          "height": 419
        },
        "outputId": "cd0b2abf-15db-495d-c54b-226832632927"
      },
      "source": [
        "encoded = pd.concat([dataset_DF.iloc[:, 0:9], dataset_DF[\"class\"].replace(\"benign\", 0).replace(\"malign\", 1)], axis=1)\n",
        "encoded"
      ],
      "execution_count": 11,
      "outputs": [
        {
          "output_type": "execute_result",
          "data": {
            "text/html": [
              "<div>\n",
              "<style scoped>\n",
              "    .dataframe tbody tr th:only-of-type {\n",
              "        vertical-align: middle;\n",
              "    }\n",
              "\n",
              "    .dataframe tbody tr th {\n",
              "        vertical-align: top;\n",
              "    }\n",
              "\n",
              "    .dataframe thead th {\n",
              "        text-align: right;\n",
              "    }\n",
              "</style>\n",
              "<table border=\"1\" class=\"dataframe\">\n",
              "  <thead>\n",
              "    <tr style=\"text-align: right;\">\n",
              "      <th></th>\n",
              "      <th>clump</th>\n",
              "      <th>uni_size</th>\n",
              "      <th>uni_shape</th>\n",
              "      <th>adhesion</th>\n",
              "      <th>epith_size</th>\n",
              "      <th>nuclei</th>\n",
              "      <th>chromatin</th>\n",
              "      <th>nucleoli</th>\n",
              "      <th>mitoses</th>\n",
              "      <th>class</th>\n",
              "    </tr>\n",
              "  </thead>\n",
              "  <tbody>\n",
              "    <tr>\n",
              "      <th>0</th>\n",
              "      <td>5</td>\n",
              "      <td>1</td>\n",
              "      <td>1</td>\n",
              "      <td>1</td>\n",
              "      <td>2</td>\n",
              "      <td>1</td>\n",
              "      <td>3</td>\n",
              "      <td>1</td>\n",
              "      <td>1</td>\n",
              "      <td>0</td>\n",
              "    </tr>\n",
              "    <tr>\n",
              "      <th>1</th>\n",
              "      <td>5</td>\n",
              "      <td>4</td>\n",
              "      <td>4</td>\n",
              "      <td>5</td>\n",
              "      <td>7</td>\n",
              "      <td>10</td>\n",
              "      <td>3</td>\n",
              "      <td>2</td>\n",
              "      <td>1</td>\n",
              "      <td>0</td>\n",
              "    </tr>\n",
              "    <tr>\n",
              "      <th>2</th>\n",
              "      <td>3</td>\n",
              "      <td>1</td>\n",
              "      <td>1</td>\n",
              "      <td>1</td>\n",
              "      <td>2</td>\n",
              "      <td>2</td>\n",
              "      <td>3</td>\n",
              "      <td>1</td>\n",
              "      <td>1</td>\n",
              "      <td>0</td>\n",
              "    </tr>\n",
              "    <tr>\n",
              "      <th>3</th>\n",
              "      <td>6</td>\n",
              "      <td>8</td>\n",
              "      <td>8</td>\n",
              "      <td>1</td>\n",
              "      <td>3</td>\n",
              "      <td>4</td>\n",
              "      <td>3</td>\n",
              "      <td>7</td>\n",
              "      <td>1</td>\n",
              "      <td>0</td>\n",
              "    </tr>\n",
              "    <tr>\n",
              "      <th>4</th>\n",
              "      <td>4</td>\n",
              "      <td>1</td>\n",
              "      <td>1</td>\n",
              "      <td>3</td>\n",
              "      <td>2</td>\n",
              "      <td>1</td>\n",
              "      <td>3</td>\n",
              "      <td>1</td>\n",
              "      <td>1</td>\n",
              "      <td>0</td>\n",
              "    </tr>\n",
              "    <tr>\n",
              "      <th>...</th>\n",
              "      <td>...</td>\n",
              "      <td>...</td>\n",
              "      <td>...</td>\n",
              "      <td>...</td>\n",
              "      <td>...</td>\n",
              "      <td>...</td>\n",
              "      <td>...</td>\n",
              "      <td>...</td>\n",
              "      <td>...</td>\n",
              "      <td>...</td>\n",
              "    </tr>\n",
              "    <tr>\n",
              "      <th>694</th>\n",
              "      <td>3</td>\n",
              "      <td>1</td>\n",
              "      <td>1</td>\n",
              "      <td>1</td>\n",
              "      <td>3</td>\n",
              "      <td>2</td>\n",
              "      <td>1</td>\n",
              "      <td>1</td>\n",
              "      <td>1</td>\n",
              "      <td>0</td>\n",
              "    </tr>\n",
              "    <tr>\n",
              "      <th>695</th>\n",
              "      <td>2</td>\n",
              "      <td>1</td>\n",
              "      <td>1</td>\n",
              "      <td>1</td>\n",
              "      <td>2</td>\n",
              "      <td>1</td>\n",
              "      <td>1</td>\n",
              "      <td>1</td>\n",
              "      <td>1</td>\n",
              "      <td>0</td>\n",
              "    </tr>\n",
              "    <tr>\n",
              "      <th>696</th>\n",
              "      <td>5</td>\n",
              "      <td>10</td>\n",
              "      <td>10</td>\n",
              "      <td>3</td>\n",
              "      <td>7</td>\n",
              "      <td>3</td>\n",
              "      <td>8</td>\n",
              "      <td>10</td>\n",
              "      <td>2</td>\n",
              "      <td>1</td>\n",
              "    </tr>\n",
              "    <tr>\n",
              "      <th>697</th>\n",
              "      <td>4</td>\n",
              "      <td>8</td>\n",
              "      <td>6</td>\n",
              "      <td>4</td>\n",
              "      <td>3</td>\n",
              "      <td>4</td>\n",
              "      <td>10</td>\n",
              "      <td>6</td>\n",
              "      <td>1</td>\n",
              "      <td>1</td>\n",
              "    </tr>\n",
              "    <tr>\n",
              "      <th>698</th>\n",
              "      <td>4</td>\n",
              "      <td>8</td>\n",
              "      <td>8</td>\n",
              "      <td>5</td>\n",
              "      <td>4</td>\n",
              "      <td>5</td>\n",
              "      <td>10</td>\n",
              "      <td>4</td>\n",
              "      <td>1</td>\n",
              "      <td>1</td>\n",
              "    </tr>\n",
              "  </tbody>\n",
              "</table>\n",
              "<p>683 rows × 10 columns</p>\n",
              "</div>"
            ],
            "text/plain": [
              "     clump  uni_size  uni_shape  adhesion  ...  chromatin  nucleoli  mitoses  class\n",
              "0        5         1          1         1  ...          3         1        1      0\n",
              "1        5         4          4         5  ...          3         2        1      0\n",
              "2        3         1          1         1  ...          3         1        1      0\n",
              "3        6         8          8         1  ...          3         7        1      0\n",
              "4        4         1          1         3  ...          3         1        1      0\n",
              "..     ...       ...        ...       ...  ...        ...       ...      ...    ...\n",
              "694      3         1          1         1  ...          1         1        1      0\n",
              "695      2         1          1         1  ...          1         1        1      0\n",
              "696      5        10         10         3  ...          8        10        2      1\n",
              "697      4         8          6         4  ...         10         6        1      1\n",
              "698      4         8          8         5  ...         10         4        1      1\n",
              "\n",
              "[683 rows x 10 columns]"
            ]
          },
          "metadata": {
            "tags": []
          },
          "execution_count": 11
        }
      ]
    },
    {
      "cell_type": "markdown",
      "metadata": {
        "id": "2Yux5MZdUWUw"
      },
      "source": [
        "# Visualization"
      ]
    },
    {
      "cell_type": "code",
      "metadata": {
        "id": "feoY1HfqfQwd",
        "colab": {
          "base_uri": "https://localhost:8080/",
          "height": 447
        },
        "outputId": "ee5477e5-df2e-498b-c738-63b95a46af50"
      },
      "source": [
        "fig, ax1 = plt.subplots(figsize=(20,10), facecolor = \"white\")\n",
        "col_dict = {\"benign\":\"#81c784\", \"malign\": \"#e57373\"}\n",
        "graph = sns.countplot(dataset_DF[\"class\"], palette=col_dict);\n",
        "graph.set_xticklabels(graph.get_xticklabels())\n",
        "for p in graph.patches:\n",
        "    height = p.get_height()\n",
        "    graph.text(p.get_x()+p.get_width()/2., height + 0.1,height ,ha=\"center\");"
      ],
      "execution_count": 12,
      "outputs": [
        {
          "output_type": "display_data",
          "data": {
            "image/png": "[encoded data removed]",
            "text/plain": [
              "<Figure size 1440x720 with 1 Axes>"
            ]
          },
          "metadata": {
            "tags": []
          }
        }
      ]
    },
    {
      "cell_type": "code",
      "metadata": {
        "id": "QkTCgCC9P5qd",
        "colab": {
          "base_uri": "https://localhost:8080/",
          "height": 846
        },
        "outputId": "d5cbd040-b2e2-41cc-9009-93f9c8b16207"
      },
      "source": [
        "f,ax = plt.subplots(figsize=(15,15), facecolor=\"white\")\n",
        "mask = np.triu(np.ones_like(encoded.corr(), dtype=bool))\n",
        "sns.heatmap(encoded.corr(), annot=True, linewidths=0.5, fmt='.2f', cmap='Reds', ax=ax, square=True, mask=mask);"
      ],
      "execution_count": 13,
      "outputs": [
        {
          "output_type": "display_data",
          "data": {
            "image/png": "[encoded data removed]",
            "text/plain": [
              "<Figure size 1080x1080 with 2 Axes>"
            ]
          },
          "metadata": {
            "tags": []
          }
        }
      ]
    },
    {
      "cell_type": "code",
      "metadata": {
        "id": "F3O79uJsRuPH",
        "colab": {
          "base_uri": "https://localhost:8080/",
          "height": 854
        },
        "outputId": "55d16f4c-0926-43ae-9579-d076e3eaa8b9"
      },
      "source": [
        "plt.subplots(3, 3, figsize = (20, 20), facecolor = \"white\")\n",
        "\n",
        "for i, col in enumerate(dataset_DF.columns[:9]):\n",
        "  plt.subplot(3, 3, i+1)\n",
        "  sns.histplot(dataset_DF.loc[dataset_DF['class'] == 'benign', col], stat=\"probability\", label='benign', color=\"#81c784\", element=\"bars\", discrete=True, kde=True)\n",
        "  sns.histplot(dataset_DF.loc[dataset_DF['class'] == 'malign', col], stat=\"probability\", label='malign', color=\"#e57373\", element=\"bars\", discrete=True, kde=True)\n",
        "  plt.title(col)\n",
        "  plt.xticks(np.arange(1,10,1))\n",
        "  plt.legend(loc='upper right')"
      ],
      "execution_count": 14,
      "outputs": [
        {
          "output_type": "display_data",
          "data": {
            "image/png": "[encoded data removed]",
            "text/plain": [
              "<Figure size 1440x1440 with 9 Axes>"
            ]
          },
          "metadata": {
            "tags": []
          }
        }
      ]
    },
    {
      "cell_type": "code",
      "metadata": {
        "id": "RKypg7rFQAQq"
      },
      "source": [
        "plt.subplots(3, 3, figsize = (20, 20), facecolor = \"white\")\n",
        "for i, col in enumerate(dataset_DF.columns[:9]):\n",
        "  plt.subplot(3, 3, i+1)\n",
        "  sns.swarmplot(y=dataset_DF.iloc[:, i] , x=\"class\", size=2, palette=col_dict, data=dataset_DF);\n",
        "  plt.xlabel(\"Type of Cancer\", size=14)"
      ],
      "execution_count": null,
      "outputs": []
    },
    {
      "cell_type": "code",
      "metadata": {
        "id": "fv_iPcOZM-K_"
      },
      "source": [
        "sns.boxplot(data=dataset_DF, orient='h')"
      ],
      "execution_count": null,
      "outputs": []
    },
    {
      "cell_type": "code",
      "metadata": {
        "id": "hfC1CpiFex_Z",
        "cellView": "both"
      },
      "source": [
        "sns.set_style(\"ticks\")\n",
        "sns.pairplot(dataset_DF, hue = \"class\", diag_kind=\"kde\", height=2, palette=col_dict)"
      ],
      "execution_count": null,
      "outputs": []
    },
    {
      "cell_type": "markdown",
      "metadata": {
        "id": "3NIInQsmUcOS"
      },
      "source": [
        "# Processing"
      ]
    },
    {
      "cell_type": "code",
      "metadata": {
        "id": "m5y6Y3_bK4sM"
      },
      "source": [
        "#splitting data and target dataframe\n",
        "x = encoded.iloc[:, :9]\n",
        "y = encoded.iloc[:, 9]\n",
        "x_unscaled = x\n",
        "seed = 42"
      ],
      "execution_count": null,
      "outputs": []
    },
    {
      "cell_type": "code",
      "metadata": {
        "id": "Oml-BNj0dh63"
      },
      "source": [
        "scaler = MinMaxScaler()\n",
        "x = scaler.fit_transform(x)\n",
        "\n",
        "x = pd.DataFrame(data=x, columns=['clump', 'uni_size', 'uni_shape',\t'adhesion',\t'epith_size',\t'nuclei',\t'chromatin', 'nucleoli',\t'mitoses'])\n",
        "x"
      ],
      "execution_count": null,
      "outputs": []
    },
    {
      "cell_type": "code",
      "metadata": {
        "id": "RaG--_t4kMDF"
      },
      "source": [
        "\n",
        "from sklearn.decomposition import PCA\n",
        "\n",
        "pca = PCA().fit(x)\n",
        "plt.plot(np.cumsum(pca.explained_variance_ratio_))\n",
        "plt.plot(pca.explained_variance_ratio_)\n",
        "plt.xlabel('number of components')\n",
        "plt.ylabel('proportion of variance explained');\n",
        "plt.yticks(np.arange(0, 1.1, 0.1))\n",
        "plt.grid()\n",
        "plt.legend(['Cumulative Variance', 'Component Variance'])\n",
        "print(np.cumsum(pca.explained_variance_ratio_))\n"
      ],
      "execution_count": null,
      "outputs": []
    },
    {
      "cell_type": "code",
      "metadata": {
        "id": "TwwSOJj-QIRo"
      },
      "source": [
        "pca = PCA(n_components = 4)\n",
        "x_pca = pca.fit_transform(x)"
      ],
      "execution_count": null,
      "outputs": []
    },
    {
      "cell_type": "code",
      "metadata": {
        "id": "Rwh6SBB7RmRb"
      },
      "source": [
        "x_pca_DF = pd.DataFrame(data=x_pca)\n",
        "x_pca_DF"
      ],
      "execution_count": null,
      "outputs": []
    },
    {
      "cell_type": "code",
      "metadata": {
        "id": "WMliXXCppdqE"
      },
      "source": [
        "#without pca performances are worsened bc\n",
        "#The PCA is a change of variables, using the correlations explained by orthogonal directions.\n",
        "#Removing directions with non-representative corresponding correlation is like removing noise. You will only keep significant datas."
      ],
      "execution_count": null,
      "outputs": []
    },
    {
      "cell_type": "markdown",
      "metadata": {
        "id": "cWzF5o0BUgTV"
      },
      "source": [
        "# Classification"
      ]
    },
    {
      "cell_type": "code",
      "metadata": {
        "id": "3ILZLBWOs4vF"
      },
      "source": [
        "X_train_val, X_test, y_train_val, y_test = train_test_split(x_pca, y, test_size=0.30, random_state=SEED,stratify=y)"
      ],
      "execution_count": null,
      "outputs": []
    },
    {
      "cell_type": "markdown",
      "metadata": {
        "id": "urqyn9LAW76e"
      },
      "source": [
        "Logistic Regression\n",
        "---"
      ]
    },
    {
      "cell_type": "code",
      "metadata": {
        "id": "m2EEevo9voSs"
      },
      "source": [
        "#To avoid overfitting we use KFold Stratified (stratidication given class imbalance)\n",
        "# Some classification problems can exhibit a large imbalance in the distribution of the target classes: for instance there could be several times more negative samples than positive samples. \n",
        "# In such cases it is recommended to use stratified sampling as implemented in StratifiedKFold and StratifiedShuffleSplit to ensure that relative class frequencies is approximately preserved in each train and validation fold.\n",
        "\n",
        "kf = StratifiedKFold(n_splits=10, shuffle=True)\n",
        "\n",
        "# StratifiedKFold is a variation of k-fold which returns stratified folds: each set contains approximately the same percentage of samples of each target class as the complete set.\n",
        "\n",
        "scores = []\n",
        "for train_index, test_index in kf.split(X_train_val,y_train_val):\n",
        "    #print(\"TRAIN:\", train_index, \"TEST:\", test_index)\n",
        "    X_train, X_val = X_train_val[train_index], X_train_val[test_index]\n",
        "    y_train, y_val = y_train_val.iloc[train_index], y_train_val.iloc[test_index]\n",
        "    \n",
        "    #SMOTE\n",
        "    sm = SMOTE(random_state=SEED)\n",
        "    X_res, y_res = sm.fit_resample(X_train, y_train)\n",
        "\n",
        "    #Classification\n",
        "    loRe = LogisticRegression(solver='newton-cg', multi_class='ovr', C=50)\n",
        "    loRe.fit(X_res,y_res)\n",
        "    pred = loRe.predict(X_val)\n",
        "    scores.append(f1_score(pred,y_val))\n",
        "print(f\"mean score {np.mean(scores)}\")"
      ],
      "execution_count": null,
      "outputs": []
    },
    {
      "cell_type": "code",
      "metadata": {
        "id": "HCia_SUjhu0T"
      },
      "source": [
        "# results on the test set\n",
        "loRe = LogisticRegression(solver='newton-cg', multi_class='ovr', C=50)\n",
        "sm = SMOTE(random_state=SEED)\n",
        "X_res, y_res = sm.fit_resample(X_train_val, y_train_val)\n",
        "loRe.fit(X_res,y_res)\n",
        "pred = loRe.predict(X_test)\n",
        "print(f\"Accuracy = {accuracy_score(pred,y_test)}\")\n",
        "print(f\"F1 = {f1_score(pred,y_test)}\")\n",
        "print(f\"Precision = {precision_score(pred,y_test)}\")\n",
        "print(f\"Recall = {recall_score(pred,y_test)}\")\n",
        "confmat(y_test,pred)"
      ],
      "execution_count": null,
      "outputs": []
    },
    {
      "cell_type": "markdown",
      "metadata": {
        "id": "ZjYRU8UvWrbF"
      },
      "source": [
        "Decision Tree CLF\n",
        "---"
      ]
    },
    {
      "cell_type": "code",
      "metadata": {
        "id": "4FjiL4OXh08P"
      },
      "source": [
        "kf = StratifiedKFold(n_splits=10, shuffle=True)\n",
        "\n",
        "# StratifiedKFold is a variation of k-fold which returns stratified folds: each set contains approximately the same percentage of samples of each target class as the complete set.\n",
        "\n",
        "scores = []\n",
        "for train_index, test_index in kf.split(X_train_val,y_train_val):\n",
        "    #print(\"TRAIN:\", train_index, \"TEST:\", test_index)\n",
        "    X_train, X_val = X_train_val[train_index], X_train_val[test_index]\n",
        "    y_train, y_val = y_train_val.iloc[train_index], y_train_val.iloc[test_index]\n",
        "    \n",
        "    #SMOTE\n",
        "    sm = SMOTE(random_state=SEED)\n",
        "    X_res, y_res = sm.fit_resample(X_train, y_train)\n",
        "    #print(\"num_malign\")\n",
        "    #print(y_res.tolist().count(1))\n",
        "    #print(\"num_benign\")\n",
        "    #print(y_res.tolist().count(0))\n",
        "    #Classification\n",
        "    dTree = DecisionTreeClassifier()\n",
        "    dTree.fit(X_res,y_res)\n",
        "    pred = dTree.predict(X_val)\n",
        "    scores.append(f1_score(pred,y_val))\n",
        "print(f\"mean score {np.mean(scores)}\")"
      ],
      "execution_count": null,
      "outputs": []
    },
    {
      "cell_type": "code",
      "metadata": {
        "id": "eo1U7WNgon1U"
      },
      "source": [
        "# results on the test set\n",
        "dTree = DecisionTreeClassifier()\n",
        "sm = SMOTE(random_state=SEED)\n",
        "X_res, y_res = sm.fit_resample(X_train_val, y_train_val)\n",
        "dTree.fit(X_res,y_res)\n",
        "pred = dTree.predict(X_test)\n",
        "print(f\"Accuracy = {accuracy_score(pred,y_test)}\")\n",
        "print(f\"F1 = {f1_score(pred,y_test)}\")\n",
        "print(f\"Precision = {precision_score(pred,y_test)}\")\n",
        "print(f\"Recall = {recall_score(pred,y_test)}\")\n",
        "confmat(y_test, pred)"
      ],
      "execution_count": null,
      "outputs": []
    },
    {
      "cell_type": "code",
      "metadata": {
        "id": "4B4lD7LXpQ7t"
      },
      "source": [
        "#plt.subplots(figsize = (15, 15), facecolor = \"white\")\n",
        "#tree.plot_tree(dTree, feature_names=['clump', 'uni_size', 'uni_shape',\t'adhesion',\t'epith_size',\t'nuclei',\t'chromatin', 'nucleoli',\t'mitoses']);"
      ],
      "execution_count": null,
      "outputs": []
    },
    {
      "cell_type": "markdown",
      "metadata": {
        "id": "lbljwxhjXDCn"
      },
      "source": [
        "KNeighbors CLF\n",
        "---"
      ]
    },
    {
      "cell_type": "code",
      "metadata": {
        "id": "SLFv9tp4R8lK"
      },
      "source": [
        "#List Hyperparameters that we want to tune.\n",
        "leaf_size = list(range(1,50))\n",
        "n_neighbors = list(range(1,30))\n",
        "algorithm_list = ['auto', 'ball_tree', 'kd_tree', 'brute']\n",
        "p=[1,2]\n",
        "#Convert to dictionary\n",
        "hyperparameters = dict(leaf_size=leaf_size, algorithm = algorithm_list, n_neighbors=n_neighbors, p=p)\n",
        "#Create new KNN object\n",
        "knn_2 = KNeighborsClassifier()\n",
        "#Use GridSearch\n",
        "clf = GridSearchCV(knn_2, hyperparameters, cv=10, n_jobs=-1, scoring= scoring)\n",
        "#Fit the model\n",
        "best_model = clf.fit(x_pca,y)\n",
        "#Print The value of best Hyperparameters\n",
        "print('Best leaf_size:', best_model.best_estimator_.get_params()['leaf_size'])\n",
        "print('Best p:', best_model.best_estimator_.get_params()['p'])\n",
        "print('Best n_neighbors:', best_model.best_estimator_.get_params()['n_neighbors'])"
      ],
      "execution_count": null,
      "outputs": []
    },
    {
      "cell_type": "code",
      "metadata": {
        "id": "XMaVTc6erZTk"
      },
      "source": [
        "#To avoid overfitting we use KFold Stratified (stratidication given class imbalance)\n",
        "# Some classification problems can exhibit a large imbalance in the distribution of the target classes: for instance there could be several times more negative samples than positive samples. \n",
        "# In such cases it is recommended to use stratified sampling as implemented in StratifiedKFold and StratifiedShuffleSplit to ensure that relative class frequencies is approximately preserved in each train and validation fold.\n",
        "\n",
        "kf = StratifiedKFold(n_splits=10, shuffle=True)\n",
        "\n",
        "# StratifiedKFold is a variation of k-fold which returns stratified folds: each set contains approximately the same percentage of samples of each target class as the complete set.\n",
        "\n",
        "scores = []\n",
        "for train_index, test_index in kf.split(X_train_val,y_train_val):\n",
        "    #print(\"TRAIN:\", train_index, \"TEST:\", test_index)\n",
        "    X_train, X_val = X_train_val[train_index], X_train_val[test_index]\n",
        "    y_train, y_val = y_train_val.iloc[train_index], y_train_val.iloc[test_index]\n",
        "    \n",
        "    #SMOTE\n",
        "    sm = SMOTE(random_state=SEED)\n",
        "    X_res, y_res = sm.fit_resample(X_train, y_train)\n",
        "    #print(\"num_malign\")\n",
        "    #print(y_res.tolist().count(1))\n",
        "    #print(\"num_benign\")\n",
        "    #print(y_res.tolist().count(0))\n",
        "    #Classification\n",
        "    dTree = KNeighborsClassifier(leaf_size=1, p=2, n_neighbors=5)\n",
        "    dTree.fit(X_res,y_res)\n",
        "    pred = dTree.predict(X_val)\n",
        "    scores.append(f1_score(pred,y_val))\n",
        "print(f\"mean score {np.mean(scores)}\")"
      ],
      "execution_count": null,
      "outputs": []
    },
    {
      "cell_type": "code",
      "metadata": {
        "id": "3zjr2bq8Q1hQ"
      },
      "source": [
        "# results on the test set\n",
        "dTree = KNeighborsClassifier(leaf_size=1, p=2, n_neighbors=5)\n",
        "sm = SMOTE(random_state=SEED)\n",
        "X_res, y_res = sm.fit_resample(X_train_val, y_train_val)\n",
        "dTree.fit(X_res,y_res)\n",
        "pred = dTree.predict(X_test)\n",
        "print(f\"Accuracy = {accuracy_score(pred,y_test)}\")\n",
        "print(f\"F1 = {f1_score(pred,y_test)}\")\n",
        "print(f\"Precision = {precision_score(pred,y_test)}\")\n",
        "print(f\"Recall = {recall_score(pred,y_test)}\")\n",
        "confmat(y_test, pred)"
      ],
      "execution_count": null,
      "outputs": []
    },
    {
      "cell_type": "markdown",
      "metadata": {
        "id": "s8bw27PfXJg8"
      },
      "source": [
        "Support Vector Machine CLF\n",
        "---"
      ]
    },
    {
      "cell_type": "code",
      "metadata": {
        "id": "1YHboZWDXPi9"
      },
      "source": [
        "#List Hyperparameters that we want to tune.\n",
        "C_list = [0.001, 0.01, 0.1, 1, 10, 100, 1000]\n",
        "G_list = [0.0001,0.001,0.005,0.01,0.05,0.1,0.5,1,10,100,1000]\n",
        "kernel_list = ['rbf', 'sigmoid','linear']\n",
        "p=[1,2]\n",
        "#Convert to dictionary\n",
        "hyperparameters = dict(C=C_list, gamma=G_list, kernel = kernel_list)\n",
        "#Create new KNN object\n",
        "svc_CLF = SVC()\n",
        "#Use GridSearch\n",
        "clf = GridSearchCV(svc_CLF, hyperparameters, cv=10, n_jobs=-1, scoring = scoring)\n",
        "#Fit the model\n",
        "best_model = clf.fit(x_pca,y)\n",
        "#Print The value of best Hyperparameters\n",
        "print('Best C:', best_model.best_estimator_.get_params()['C'])\n",
        "print('Best gamma:', best_model.best_estimator_.get_params()['gamma'])\n",
        "print('Best kernel:', best_model.best_estimator_.get_params()['kernel'])"
      ],
      "execution_count": null,
      "outputs": []
    },
    {
      "cell_type": "code",
      "metadata": {
        "id": "jUJGaMWHTSKd"
      },
      "source": [
        "#To avoid overfitting we use KFold Stratified (stratidication given class imbalance)\n",
        "# Some classification problems can exhibit a large imbalance in the distribution of the target classes: for instance there could be several times more negative samples than positive samples. \n",
        "# In such cases it is recommended to use stratified sampling as implemented in StratifiedKFold and StratifiedShuffleSplit to ensure that relative class frequencies is approximately preserved in each train and validation fold.\n",
        "\n",
        "kf = StratifiedKFold(n_splits=10, shuffle=True)\n",
        "\n",
        "# StratifiedKFold is a variation of k-fold which returns stratified folds: each set contains approximately the same percentage of samples of each target class as the complete set.\n",
        "\n",
        "scores = []\n",
        "for train_index, test_index in kf.split(X_train_val,y_train_val):\n",
        "    #print(\"TRAIN:\", train_index, \"TEST:\", test_index)\n",
        "    X_train, X_val = X_train_val[train_index], X_train_val[test_index]\n",
        "    y_train, y_val = y_train_val.iloc[train_index], y_train_val.iloc[test_index]\n",
        "    \n",
        "    #SMOTE\n",
        "    sm = SMOTE(random_state=SEED)\n",
        "    X_res, y_res = sm.fit_resample(X_train, y_train)\n",
        "    #print(\"num_malign\")\n",
        "    #print(y_res.tolist().count(1))\n",
        "    #print(\"num_benign\")\n",
        "    #print(y_res.tolist().count(0))\n",
        "    #Classification\n",
        "    clf = SVC(C=1, gamma=10, kernel='rbf')\n",
        "    clf.fit(X_res,y_res)\n",
        "    pred = clf.predict(X_val)\n",
        "    scores.append(f1_score(pred,y_val))\n",
        "print(f\"mean score {np.mean(scores)}\")"
      ],
      "execution_count": null,
      "outputs": []
    },
    {
      "cell_type": "code",
      "metadata": {
        "id": "rrJXrpDcYToS"
      },
      "source": [
        "# results on the test set\n",
        "clf = SVC(C=1, gamma=10, kernel='rbf')\n",
        "sm = SMOTE(random_state=SEED)\n",
        "X_res, y_res = sm.fit_resample(X_train_val, y_train_val)\n",
        "clf.fit(X_res,y_res)\n",
        "pred = clf.predict(X_test)\n",
        "print(f\"Accuracy = {accuracy_score(pred,y_test)}\")\n",
        "print(f\"F1 = {f1_score(pred,y_test)}\")\n",
        "print(f\"Precision = {precision_score(pred,y_test)}\")\n",
        "print(f\"Recall = {recall_score(pred,y_test)}\")\n",
        "confmat(y_test, pred)"
      ],
      "execution_count": null,
      "outputs": []
    },
    {
      "cell_type": "markdown",
      "metadata": {
        "id": "3Tal6zKQTUqX"
      },
      "source": [
        "Random Forest CLF\n",
        "---"
      ]
    },
    {
      "cell_type": "code",
      "metadata": {
        "id": "raCCnPJDRLYV"
      },
      "source": [
        "#List Hyperparameters that we want to tune.\r\n",
        "estimators_list = [50, 70, 90, 100, 110, 130, 140]\r\n",
        "features_list = [\"log2\", \"sqrt\", \"auto\"]\r\n",
        "sample_leafs_list = [2, 4, 8, 10]\r\n",
        "#Convert to dictionary\r\n",
        "hyperparameters = dict(n_estimators=estimators_list, max_features=features_list, min_samples_leaf = sample_leafs_list)\r\n",
        "#Create new KNN object\r\n",
        "rfc = RandomForestClassifier()\r\n",
        "#Use GridSearch\r\n",
        "clf = GridSearchCV(rfc, hyperparameters, cv=5, n_jobs=-1, scoring = scoring)\r\n",
        "#Fit the model\r\n",
        "best_model = clf.fit(x_pca,y)\r\n",
        "#Print The value of best Hyperparameters\r\n",
        "print('Best estimator:', best_model.best_estimator_.get_params()['n_estimators'])\r\n",
        "print('Best feature:', best_model.best_estimator_.get_params()['max_features'])\r\n",
        "print('Best sample leaf:', best_model.best_estimator_.get_params()['min_samples_leaf'])\\"
      ],
      "execution_count": null,
      "outputs": []
    },
    {
      "cell_type": "code",
      "metadata": {
        "id": "Pm2xKpA3dbJS"
      },
      "source": [
        "#To avoid overfitting we use KFold Stratified (stratidication given class imbalance)\r\n",
        "# Some classification problems can exhibit a large imbalance in the distribution of the target classes: for instance there could be several times more negative samples than positive samples. \r\n",
        "# In such cases it is recommended to use stratified sampling as implemented in StratifiedKFold and StratifiedShuffleSplit to ensure that relative class frequencies is approximately preserved in each train and validation fold.\r\n",
        "\r\n",
        "kf = StratifiedKFold(n_splits=10, shuffle=True)\r\n",
        "\r\n",
        "# StratifiedKFold is a variation of k-fold which returns stratified folds: each set contains approximately the same percentage of samples of each target class as the complete set.\r\n",
        "\r\n",
        "scores = []\r\n",
        "for train_index, test_index in kf.split(X_train_val,y_train_val):\r\n",
        "    #print(\"TRAIN:\", train_index, \"TEST:\", test_index)\r\n",
        "    X_train, X_val = X_train_val[train_index], X_train_val[test_index]\r\n",
        "    y_train, y_val = y_train_val.iloc[train_index], y_train_val.iloc[test_index]\r\n",
        "    \r\n",
        "    #SMOTE\r\n",
        "    sm = SMOTE(random_state=SEED)\r\n",
        "    X_res, y_res = sm.fit_resample(X_train, y_train)\r\n",
        "    #print(\"num_malign\")\r\n",
        "    #print(y_res.tolist().count(1))\r\n",
        "    #print(\"num_benign\")\r\n",
        "    #print(y_res.tolist().count(0))\r\n",
        "    #Classification\r\n",
        "    clf = RandomForestClassifier(n_estimators = 90, max_depth = 2, max_features='log2', random_state = 42)\r\n",
        "    clf.fit(X_res,y_res)\r\n",
        "    pred = clf.predict(X_val)\r\n",
        "    scores.append(f1_score(pred,y_val))\r\n",
        "print(f\"mean score {np.mean(scores)}\")"
      ],
      "execution_count": null,
      "outputs": []
    },
    {
      "cell_type": "code",
      "metadata": {
        "id": "457C-NniS9yl"
      },
      "source": [
        "# results on the test set\r\n",
        "clf = RandomForestClassifier(n_estimators = 90, max_depth = 2, max_features='log2', random_state = 42)\r\n",
        "sm = SMOTE(random_state=SEED)\r\n",
        "X_res, y_res = sm.fit_resample(X_train_val, y_train_val)\r\n",
        "clf.fit(X_res,y_res)\r\n",
        "pred = clf.predict(X_test)\r\n",
        "print(f\"Accuracy = {accuracy_score(pred,y_test)}\")\r\n",
        "print(f\"F1 = {f1_score(pred,y_test)}\")\r\n",
        "print(f\"Precision = {precision_score(pred,y_test)}\")\r\n",
        "print(f\"Recall = {recall_score(pred,y_test)}\")\r\n",
        "confmat(y_test, pred)"
      ],
      "execution_count": null,
      "outputs": []
    }
  ]
}